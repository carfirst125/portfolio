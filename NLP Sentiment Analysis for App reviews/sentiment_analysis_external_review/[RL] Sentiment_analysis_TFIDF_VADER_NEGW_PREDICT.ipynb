{
 "cells": [
  {
   "cell_type": "markdown",
   "metadata": {},
   "source": [
    "### Sentiment Analysis PREDICTION - Version 02\n",
    "\n",
    "+ TFIDF + VADER + NEGATIVEWORD\n",
    "\n",
    "+ Multidata review source, including VIB, TCB, CTG, etc."
   ]
  },
  {
   "cell_type": "code",
   "execution_count": 1,
   "metadata": {},
   "outputs": [],
   "source": [
    "import json\n",
    "import pandas as pd\n",
    "import numpy as np\n",
    "\n",
    "from tqdm import tqdm\n",
    "from string import punctuation\n",
    "import seaborn as sns\n",
    "import matplotlib.pyplot as plt\n",
    "from itertools import groupby\n",
    "import sys\n",
    "\n",
    "import regex as re\n",
    "from deep_translator import GoogleTranslator\n",
    "from collections import Counter\n",
    "import textacy.preprocessing.normalize as tprep\n",
    "from textacy.preprocessing.remove import accents\n",
    "import string\n",
    "\n",
    "import nltk\n",
    "from nltk.corpus import opinion_lexicon,wordnet,stopwords\n",
    "from nltk.tokenize import word_tokenize, WhitespaceTokenizer\n",
    "from nltk.stem import WordNetLemmatizer\n",
    "\n",
    "import os\n",
    "from datetime import date\n",
    "import datetime\n",
    "import time\n",
    "import shutil\n",
    "import os\n",
    "\n",
    "import enchant\n",
    "dict_english = enchant.Dict(\"en_US\")\n",
    "\n",
    "#from TopicModeling import *\n",
    "import pickle\n",
    "\n",
    "# Android\n",
    "from google_play_scraper import Sort, reviews, app, reviews_all\n",
    "\n",
    "# iOS\n",
    "from app_store_scraper import AppStore"
   ]
  },
  {
   "cell_type": "code",
   "execution_count": 2,
   "metadata": {},
   "outputs": [
    {
     "name": "stderr",
     "output_type": "stream",
     "text": [
      "[nltk_data] Downloading package stopwords to\n",
      "[nltk_data]     C:\\Users\\nhan.ngothanh1\\AppData\\Roaming\\nltk_data...\n",
      "[nltk_data]   Package stopwords is already up-to-date!\n",
      "[nltk_data] Downloading package opinion_lexicon to\n",
      "[nltk_data]     C:\\Users\\nhan.ngothanh1\\AppData\\Roaming\\nltk_data...\n",
      "[nltk_data]   Package opinion_lexicon is already up-to-date!\n",
      "[nltk_data] Downloading package averaged_perceptron_tagger to\n",
      "[nltk_data]     C:\\Users\\nhan.ngothanh1\\AppData\\Roaming\\nltk_data...\n",
      "[nltk_data]   Package averaged_perceptron_tagger is already up-to-\n",
      "[nltk_data]       date!\n",
      "[nltk_data] Downloading package wordnet to\n",
      "[nltk_data]     C:\\Users\\nhan.ngothanh1\\AppData\\Roaming\\nltk_data...\n",
      "[nltk_data]   Package wordnet is already up-to-date!\n",
      "[nltk_data] Downloading package punkt to\n",
      "[nltk_data]     C:\\Users\\nhan.ngothanh1\\AppData\\Roaming\\nltk_data...\n",
      "[nltk_data]   Package punkt is already up-to-date!\n",
      "[nltk_data] Downloading package omw-1.4 to\n",
      "[nltk_data]     C:\\Users\\nhan.ngothanh1\\AppData\\Roaming\\nltk_data...\n",
      "[nltk_data]   Package omw-1.4 is already up-to-date!\n",
      "[nltk_data] Downloading package vader_lexicon to\n",
      "[nltk_data]     C:\\Users\\nhan.ngothanh1\\AppData\\Roaming\\nltk_data...\n",
      "[nltk_data]   Package vader_lexicon is already up-to-date!\n"
     ]
    }
   ],
   "source": [
    "# included code\n",
    "import sys\n",
    "sys.path.append('./mylib/')\n",
    "import global_materials\n",
    "from load import *\n",
    "from sentiment_process import *\n",
    "\n",
    "stopwords = global_materials.stopwords"
   ]
  },
  {
   "cell_type": "code",
   "execution_count": 3,
   "metadata": {},
   "outputs": [],
   "source": [
    "# PARAMETER\n",
    "GET_SENTIMENT_OF_REVIEW_FROM_DATE = datetime.datetime(2022,9,1)"
   ]
  },
  {
   "cell_type": "code",
   "execution_count": 4,
   "metadata": {},
   "outputs": [],
   "source": [
    "today = date.today()\n",
    "PRED_ROOT = './data/predict'\n",
    "\n",
    "if not os.path.exists(\"model\"):\n",
    "    os.mkdir(\"model\")\n",
    "if not os.path.exists(\"data\"):\n",
    "    os.mkdir(\"data\")\n",
    "if not os.path.exists(PRED_ROOT):\n",
    "    os.mkdir(PRED_ROOT)  \n",
    "if not os.path.exists(PRED_ROOT+\"/translate_\"+str(today)):\n",
    "    os.mkdir(PRED_ROOT+\"/translate_\"+str(today))"
   ]
  },
  {
   "cell_type": "markdown",
   "metadata": {},
   "source": [
    "________________________________________________________________________________________________________________________\n",
    "### Data Input\n",
    "\n",
    "You can get data input from any sources\n",
    "\n",
    "This example you get data input from App [Android (GooglePlay) and iOS (Appstore)] and check sentiment of new reviews."
   ]
  },
  {
   "cell_type": "code",
   "execution_count": 27,
   "metadata": {},
   "outputs": [
    {
     "name": "stdout",
     "output_type": "stream",
     "text": [
      "vib1: (4683, 10)\n",
      "vib2: (1681, 10)\n",
      "(6364, 11)\n",
      "(6364, 5)\n"
     ]
    },
    {
     "name": "stderr",
     "output_type": "stream",
     "text": [
      "C:\\Users\\nhan.ngothanh1\\AppData\\Local\\Temp\\ipykernel_15972\\206084083.py:35: SettingWithCopyWarning: \n",
      "A value is trying to be set on a copy of a slice from a DataFrame\n",
      "\n",
      "See the caveats in the documentation: https://pandas.pydata.org/pandas-docs/stable/user_guide/indexing.html#returning-a-view-versus-a-copy\n",
      "  df_android_used.rename(columns = {'userName':'username','content':'review','at':'date','score':'rating'}, inplace=True)\n",
      "C:\\Users\\nhan.ngothanh1\\AppData\\Local\\Temp\\ipykernel_15972\\206084083.py:38: SettingWithCopyWarning: \n",
      "A value is trying to be set on a copy of a slice from a DataFrame.\n",
      "Try using .loc[row_indexer,col_indexer] = value instead\n",
      "\n",
      "See the caveats in the documentation: https://pandas.pydata.org/pandas-docs/stable/user_guide/indexing.html#returning-a-view-versus-a-copy\n",
      "  df_android_used['date'] = df_android_used['date'].apply(lambda x: x.strftime(\"%Y-%m-%d %H:%M:%S\"))\n"
     ]
    },
    {
     "data": {
      "text/html": [
       "<div>\n",
       "<style scoped>\n",
       "    .dataframe tbody tr th:only-of-type {\n",
       "        vertical-align: middle;\n",
       "    }\n",
       "\n",
       "    .dataframe tbody tr th {\n",
       "        vertical-align: top;\n",
       "    }\n",
       "\n",
       "    .dataframe thead th {\n",
       "        text-align: right;\n",
       "    }\n",
       "</style>\n",
       "<table border=\"1\" class=\"dataframe\">\n",
       "  <thead>\n",
       "    <tr style=\"text-align: right;\">\n",
       "      <th></th>\n",
       "      <th>username</th>\n",
       "      <th>review</th>\n",
       "      <th>date</th>\n",
       "      <th>m_y</th>\n",
       "      <th>rating</th>\n",
       "    </tr>\n",
       "  </thead>\n",
       "  <tbody>\n",
       "    <tr>\n",
       "      <th>0</th>\n",
       "      <td>Trang web: Vay9.C0M</td>\n",
       "      <td>Vô trang 𝐕𝐚𝐲𝟗.𝐂𝟎𝐌 vay 0% trong 9tháng</td>\n",
       "      <td>2022-09-27 14:29:00</td>\n",
       "      <td>92022</td>\n",
       "      <td>1</td>\n",
       "    </tr>\n",
       "  </tbody>\n",
       "</table>\n",
       "</div>"
      ],
      "text/plain": [
       "              username                                 review  \\\n",
       "0  Trang web: Vay9.C0M  Vô trang 𝐕𝐚𝐲𝟗.𝐂𝟎𝐌 vay 0% trong 9tháng   \n",
       "\n",
       "                  date    m_y rating  \n",
       "0  2022-09-27 14:29:00  92022      1  "
      ]
     },
     "execution_count": 27,
     "metadata": {},
     "output_type": "execute_result"
    }
   ],
   "source": [
    "\n",
    "rw_android_src_dict = {'vib1':['com.vn.vib.mobileapp','vi','vn'],\n",
    "                       'vib2':['com.vib.myvib2','vi','vn'],\n",
    "                       'tcb':['vn.com.techcombank.bb.app','vi','vn'],\n",
    "                       'tpb':['com.tpb.mb.gprsandroid','vi','vn'],\n",
    "                       'bid':['vn.com.bidv.ibank','vi','vn'],\n",
    "                       'vcb':['com.VCB','vi','vn'],\n",
    "                       'mb':['com.mbcorp','vi','vn']\n",
    "                       }\n",
    "#----------------------------------------------------------------------------------------------------------\n",
    "# get Android review\n",
    "column = ['reviewId','userName','userImage','content','score','thumbsUpCount','reviewCreatedVersion','at','replyContent','repliedAt','bankapp']\n",
    "df_android_rw = pd.DataFrame(columns = column)\n",
    "\n",
    "get_review_in = ['vib1','vib2'] #rw_android_src_dict.keys()\n",
    "\n",
    "for bank_name in get_review_in:\n",
    "    Andrw_df = get_rwdata_android(rw_android_src_dict, bank_name, save_path=PRED_ROOT)   \n",
    "    Andrw_df['bankapp'] = bank_name\n",
    "    df_android_rw = pd.concat([df_android_rw, Andrw_df])\n",
    "    time.sleep(30)\n",
    "    \n",
    "df_android_rw.reset_index(drop=True, inplace=True)\n",
    "df_android_rw.to_csv(PRED_ROOT+'/1_AndRaw_'+str(today)+'vibx.csv', index=False)\n",
    "\n",
    "print(df_android_rw.shape)\n",
    "df_android_rw.head(1)\n",
    "\n",
    "#----------------------------------------------------------------------------------------------------------\n",
    "df_android_rw['month'] = pd.DatetimeIndex(df_android_rw['at']).month\n",
    "df_android_rw['year'] = pd.DatetimeIndex(df_android_rw['at']).year\n",
    "df_android_rw['m_y'] = df_android_rw['month'].astype(str)+df_android_rw['year'].astype(str)\n",
    "\n",
    "#JUST RAW\n",
    "df_android_used = df_android_rw[['userName','content','at','m_y','score']]\n",
    "df_android_used.rename(columns = {'userName':'username','content':'review','at':'date','score':'rating'}, inplace=True)\n",
    "\n",
    "# Convert timetamps to string\n",
    "df_android_used['date'] = df_android_used['date'].apply(lambda x: x.strftime(\"%Y-%m-%d %H:%M:%S\"))\n",
    "print(df_android_used.shape)\n",
    "df_android_used.head(1)"
   ]
  },
  {
   "cell_type": "code",
   "execution_count": 28,
   "metadata": {},
   "outputs": [
    {
     "name": "stderr",
     "output_type": "stream",
     "text": [
      "2022-09-28 17:52:54,429 [INFO] Base - Initialised: AppStore('vn', 'myvib', 949371011)\n",
      "2022-09-28 17:52:54,429 [INFO] Base - Ready to fetch reviews from: https://apps.apple.com/vn/app/myvib/id949371011\n",
      "2022-09-28 17:52:59,706 [INFO] Base - [id:949371011] Fetched 240 reviews (240 fetched in total)\n",
      "2022-09-28 17:53:05,436 [INFO] Base - [id:949371011] Fetched 440 reviews (440 fetched in total)\n",
      "2022-09-28 17:53:10,939 [INFO] Base - [id:949371011] Fetched 720 reviews (720 fetched in total)\n",
      "2022-09-28 17:53:16,400 [INFO] Base - [id:949371011] Fetched 980 reviews (980 fetched in total)\n",
      "2022-09-28 17:53:21,584 [INFO] Base - [id:949371011] Fetched 1248 reviews (1248 fetched in total)\n"
     ]
    },
    {
     "name": "stdout",
     "output_type": "stream",
     "text": [
      "vib1: (1248, 7)\n"
     ]
    },
    {
     "name": "stderr",
     "output_type": "stream",
     "text": [
      "2022-09-28 17:53:52,319 [INFO] Base - Initialised: AppStore('vn', 'myvib-2-0', 1626624790)\n",
      "2022-09-28 17:53:52,319 [INFO] Base - Ready to fetch reviews from: https://apps.apple.com/vn/app/myvib-2-0/id1626624790\n",
      "2022-09-28 17:53:57,512 [INFO] Base - [id:1626624790] Fetched 240 reviews (240 fetched in total)\n",
      "2022-09-28 17:54:00,631 [INFO] Base - [id:1626624790] Fetched 394 reviews (394 fetched in total)\n"
     ]
    },
    {
     "name": "stdout",
     "output_type": "stream",
     "text": [
      "vib2: (394, 7)\n",
      "(1642, 8)\n"
     ]
    },
    {
     "name": "stderr",
     "output_type": "stream",
     "text": [
      "C:\\Users\\nhan.ngothanh1\\AppData\\Local\\Temp\\ipykernel_15972\\2850502776.py:35: SettingWithCopyWarning: \n",
      "A value is trying to be set on a copy of a slice from a DataFrame\n",
      "\n",
      "See the caveats in the documentation: https://pandas.pydata.org/pandas-docs/stable/user_guide/indexing.html#returning-a-view-versus-a-copy\n",
      "  df_ios_used.rename(columns = {'userName':'username'}, inplace=True)\n",
      "C:\\Users\\nhan.ngothanh1\\AppData\\Local\\Temp\\ipykernel_15972\\2850502776.py:38: SettingWithCopyWarning: \n",
      "A value is trying to be set on a copy of a slice from a DataFrame.\n",
      "Try using .loc[row_indexer,col_indexer] = value instead\n",
      "\n",
      "See the caveats in the documentation: https://pandas.pydata.org/pandas-docs/stable/user_guide/indexing.html#returning-a-view-versus-a-copy\n",
      "  df_ios_used['date'] = df_ios_used['date'].apply(lambda x: x.strftime(\"%Y-%m-%d %H:%M:%S\"))\n"
     ]
    }
   ],
   "source": [
    "\n",
    "rw_ios_src_dict = {'vib1':['MyVIB','vn','949371011'],\n",
    "                   'vib2':['MyVIB 2.0','vn','1626624790'],\n",
    "                   'tcb':['Techcombank Mobile','vn','1548623362'],\n",
    "                   'tpb':['TPBank Mobile','vn','450464147'],\n",
    "                   'bid':['SmartBanking','vn','1061867449'],\n",
    "                   'vcb':['Vietcombank','vn','561433133'],\n",
    "                   'mb':['BIZ MBBANK','vn','1424005630']\n",
    "                  }\n",
    "\n",
    "#----------------------------------------------------------------------------------------------------------\n",
    "column = ['title','userName','isEdited','review','date','rating','developerResponse','bankapp']\n",
    "df_ios_rw = pd.DataFrame(columns = column)\n",
    "\n",
    "get_review_in = ['vib1','vib2'] #rw_ios_src_dict.keys()\n",
    "\n",
    "for bankapp in get_review_in:\n",
    "    iosrw_df = get_rwdata_ios(rw_ios_src_dict, bankapp, save_path=PRED_ROOT)   \n",
    "    iosrw_df['bankapp'] = bankapp\n",
    "    df_ios_rw = pd.concat([df_ios_rw, iosrw_df])  \n",
    "    time.sleep(30)\n",
    "    \n",
    "today = date.today()\n",
    "df_ios_rw.reset_index(drop=True, inplace=True)\n",
    "df_ios_rw.to_csv(PRED_ROOT+'/1_iOSRaw_'+str(today)+'vibx.csv', index=False)\n",
    "\n",
    "print(df_ios_rw.shape)\n",
    "\n",
    "#----------------------------------------------------------------------------------------------------------\n",
    "df_ios_rw['month'] = pd.DatetimeIndex(df_ios_rw['date']).month\n",
    "df_ios_rw['year'] = pd.DatetimeIndex(df_ios_rw['date']).year\n",
    "df_ios_rw['m_y'] = df_ios_rw['month'].astype(str)+df_ios_rw['year'].astype(str)\n",
    "\n",
    "#JUST RAW\n",
    "df_ios_used = df_ios_rw[['userName','review','date','m_y','rating']]\n",
    "df_ios_used.rename(columns = {'userName':'username'}, inplace=True)\n",
    "\n",
    "# Convert timetamps to string\n",
    "df_ios_used['date'] = df_ios_used['date'].apply(lambda x: x.strftime(\"%Y-%m-%d %H:%M:%S\"))\n",
    "\n"
   ]
  },
  {
   "cell_type": "code",
   "execution_count": 29,
   "metadata": {},
   "outputs": [
    {
     "name": "stdout",
     "output_type": "stream",
     "text": [
      "BEFORE: df_used.shape =  8006\n",
      "AFTER DUPLICATE PROCESSING: df_used.shape =  7754\n"
     ]
    }
   ],
   "source": [
    "df_used = pd.concat([df_android_used, df_ios_used])\n",
    "df_used['duplicate'] = df_used.duplicated(subset=['username', 'm_y', 'review'], keep='first')\n",
    "print('BEFORE: df_used.shape = ',df_used.shape[0])\n",
    "df_used = df_used[df_used['duplicate']==False] #remove duplicate\n",
    "df_used.reset_index(inplace=True, drop=True)\n",
    "print('AFTER DUPLICATE PROCESSING: df_used.shape = ',df_used.shape[0])\n",
    "\n",
    "# process for date column\n",
    "df_used['date'] = df_used['date'].apply(lambda x: ('20'+x) if (len(x)==17) else x ) # add '20' before datetime string for right format yyyy-mm-dd \n",
    "df_used['date'] = df_used['date'].apply(lambda x: datetime.datetime.strptime(x,'%Y-%m-%d %H:%M:%S'))\n",
    "\n",
    "df_used.to_csv(PRED_ROOT+'/2_dataApp_combine.csv',index=False,sep='\\t')"
   ]
  },
  {
   "cell_type": "code",
   "execution_count": 5,
   "metadata": {},
   "outputs": [],
   "source": [
    "df_used = pd.read_csv(PRED_ROOT+'/2_dataApp_combine.csv',index_col=False,sep='\\t')\n",
    "df_used['date'] = pd.to_datetime(df_used['date'])"
   ]
  },
  {
   "cell_type": "markdown",
   "metadata": {},
   "source": [
    "__________________________________________________________________________________________________________________________\n",
    "### Data Processing and Prediction\n",
    "\n",
    "Vietnamese process --> English translation --> Clean text --> extract TFIDF + VADER + NEGWORD feature --> PREDICTION"
   ]
  },
  {
   "cell_type": "code",
   "execution_count": 6,
   "metadata": {},
   "outputs": [
    {
     "name": "stdout",
     "output_type": "stream",
     "text": [
      "There are 136 new reviews\n"
     ]
    },
    {
     "data": {
      "text/html": [
       "<div>\n",
       "<style scoped>\n",
       "    .dataframe tbody tr th:only-of-type {\n",
       "        vertical-align: middle;\n",
       "    }\n",
       "\n",
       "    .dataframe tbody tr th {\n",
       "        vertical-align: top;\n",
       "    }\n",
       "\n",
       "    .dataframe thead th {\n",
       "        text-align: right;\n",
       "    }\n",
       "</style>\n",
       "<table border=\"1\" class=\"dataframe\">\n",
       "  <thead>\n",
       "    <tr style=\"text-align: right;\">\n",
       "      <th></th>\n",
       "      <th>review_adj</th>\n",
       "      <th>review_en</th>\n",
       "      <th>review_clean</th>\n",
       "      <th>vader_compound</th>\n",
       "      <th>sentiment</th>\n",
       "    </tr>\n",
       "  </thead>\n",
       "  <tbody>\n",
       "    <tr>\n",
       "      <th>0</th>\n",
       "      <td>vô trang vay trong</td>\n",
       "      <td>no loan page in</td>\n",
       "      <td>loan page</td>\n",
       "      <td>0</td>\n",
       "      <td>0</td>\n",
       "    </tr>\n",
       "    <tr>\n",
       "      <th>1</th>\n",
       "      <td>lừa đảo khách hàng chiếm thông tin cá nhân ký ...</td>\n",
       "      <td>scam customers to take personal information di...</td>\n",
       "      <td>scam customer take personal information digita...</td>\n",
       "      <td>1</td>\n",
       "      <td>1</td>\n",
       "    </tr>\n",
       "    <tr>\n",
       "      <th>2</th>\n",
       "      <td>vào trang 𝐕𝐚𝐲𝐓𝐨𝐭𝐍𝐡𝐚𝐭 vay và free</td>\n",
       "      <td>go to the page loan and free</td>\n",
       "      <td>go page loan free</td>\n",
       "      <td>0</td>\n",
       "      <td>0</td>\n",
       "    </tr>\n",
       "    <tr>\n",
       "      <th>3</th>\n",
       "      <td>vô trang 𝐕𝐚𝐲𝐓𝐨𝐭𝐍𝐡𝐚𝐭 để vay được nhận</td>\n",
       "      <td>Go to the page to get a loan</td>\n",
       "      <td>go page get loan</td>\n",
       "      <td>0</td>\n",
       "      <td>0</td>\n",
       "    </tr>\n",
       "    <tr>\n",
       "      <th>4</th>\n",
       "      <td>sao không cho đăng ký vậy</td>\n",
       "      <td>why not register?</td>\n",
       "      <td>not register</td>\n",
       "      <td>0</td>\n",
       "      <td>1</td>\n",
       "    </tr>\n",
       "    <tr>\n",
       "      <th>...</th>\n",
       "      <td>...</td>\n",
       "      <td>...</td>\n",
       "      <td>...</td>\n",
       "      <td>...</td>\n",
       "      <td>...</td>\n",
       "    </tr>\n",
       "    <tr>\n",
       "      <th>131</th>\n",
       "      <td>đưa ra nhiều chương trình ưu đãi miễn phí thườ...</td>\n",
       "      <td>offer many annual free incentive programs with...</td>\n",
       "      <td>offer many annual free incentive program uncle...</td>\n",
       "      <td>0</td>\n",
       "      <td>1</td>\n",
       "    </tr>\n",
       "    <tr>\n",
       "      <th>132</th>\n",
       "      <td>lỗi quá nhiều</td>\n",
       "      <td>too many errors</td>\n",
       "      <td>many error</td>\n",
       "      <td>1</td>\n",
       "      <td>1</td>\n",
       "    </tr>\n",
       "    <tr>\n",
       "      <th>133</th>\n",
       "      <td>một cái app ngân hàng ngu chưa từng thấy</td>\n",
       "      <td>a stupid banking app ever</td>\n",
       "      <td>stupid banking ever</td>\n",
       "      <td>1</td>\n",
       "      <td>1</td>\n",
       "    </tr>\n",
       "    <tr>\n",
       "      <th>134</th>\n",
       "      <td>mình có đổi otp rồi khi chuyển tiền có nhập đú...</td>\n",
       "      <td>I changed my otp and when I transferred the mo...</td>\n",
       "      <td>change transfer money enter correctly always r...</td>\n",
       "      <td>1</td>\n",
       "      <td>1</td>\n",
       "    </tr>\n",
       "    <tr>\n",
       "      <th>135</th>\n",
       "      <td>vib tự huỷ rồi bản rất okela mà bản quá tồi ch...</td>\n",
       "      <td>vib self-destructed then the version was okela...</td>\n",
       "      <td>self-destructed version version slow bad try u...</td>\n",
       "      <td>1</td>\n",
       "      <td>1</td>\n",
       "    </tr>\n",
       "  </tbody>\n",
       "</table>\n",
       "<p>133 rows × 5 columns</p>\n",
       "</div>"
      ],
      "text/plain": [
       "                                            review_adj  \\\n",
       "0                                   vô trang vay trong   \n",
       "1    lừa đảo khách hàng chiếm thông tin cá nhân ký ...   \n",
       "2                     vào trang 𝐕𝐚𝐲𝐓𝐨𝐭𝐍𝐡𝐚𝐭 vay và free   \n",
       "3                 vô trang 𝐕𝐚𝐲𝐓𝐨𝐭𝐍𝐡𝐚𝐭 để vay được nhận   \n",
       "4                            sao không cho đăng ký vậy   \n",
       "..                                                 ...   \n",
       "131  đưa ra nhiều chương trình ưu đãi miễn phí thườ...   \n",
       "132                                      lỗi quá nhiều   \n",
       "133           một cái app ngân hàng ngu chưa từng thấy   \n",
       "134  mình có đổi otp rồi khi chuyển tiền có nhập đú...   \n",
       "135  vib tự huỷ rồi bản rất okela mà bản quá tồi ch...   \n",
       "\n",
       "                                             review_en  \\\n",
       "0                                      no loan page in   \n",
       "1    scam customers to take personal information di...   \n",
       "2                         go to the page loan and free   \n",
       "3                         Go to the page to get a loan   \n",
       "4                                    why not register?   \n",
       "..                                                 ...   \n",
       "131  offer many annual free incentive programs with...   \n",
       "132                                    too many errors   \n",
       "133                          a stupid banking app ever   \n",
       "134  I changed my otp and when I transferred the mo...   \n",
       "135  vib self-destructed then the version was okela...   \n",
       "\n",
       "                                          review_clean  vader_compound  \\\n",
       "0                                            loan page               0   \n",
       "1    scam customer take personal information digita...               1   \n",
       "2                                    go page loan free               0   \n",
       "3                                     go page get loan               0   \n",
       "4                                         not register               0   \n",
       "..                                                 ...             ...   \n",
       "131  offer many annual free incentive program uncle...               0   \n",
       "132                                         many error               1   \n",
       "133                                stupid banking ever               1   \n",
       "134  change transfer money enter correctly always r...               1   \n",
       "135  self-destructed version version slow bad try u...               1   \n",
       "\n",
       "     sentiment  \n",
       "0            0  \n",
       "1            1  \n",
       "2            0  \n",
       "3            0  \n",
       "4            1  \n",
       "..         ...  \n",
       "131          1  \n",
       "132          1  \n",
       "133          1  \n",
       "134          1  \n",
       "135          1  \n",
       "\n",
       "[133 rows x 5 columns]"
      ]
     },
     "execution_count": 6,
     "metadata": {},
     "output_type": "execute_result"
    }
   ],
   "source": [
    "df_used['ymdhms'] = pd.to_datetime(df_used['date']).dt.strftime(\"%Y_%m_%d_%H_%M_%S\")\n",
    "\n",
    "# Get the piece of data the you would like to predict.\n",
    "df_new = df_used[df_used['date']>=GET_SENTIMENT_OF_REVIEW_FROM_DATE].reset_index(drop=True)\n",
    "\n",
    "# RUN SENTIMENT PREDITION\n",
    "df_pred_result = sentiment_prediction(df_new, tfidf_convertor='./model/TFIDF_VECTORIZER_app.pk', sentiment_model='./model/SENTIMENT_MODEL_svc_app.sav', pred_out_file=PRED_ROOT+'/OUT_sentiment_prediction.csv')\n",
    "df_pred_result[['review_adj','review_en','review_clean','vader_compound','sentiment']]"
   ]
  },
  {
   "cell_type": "code",
   "execution_count": 7,
   "metadata": {},
   "outputs": [
    {
     "name": "stdout",
     "output_type": "stream",
     "text": [
      "Neg/Pos ratio: 89/44\n",
      "Sentiment Score: -0.33835\n"
     ]
    }
   ],
   "source": [
    "avg_sentiment_score = df_pred_result['sentiment'].sum()/df_pred_result.shape[0]\n",
    "sentiment_score = -(avg_sentiment_score-0.5)*2\n",
    "print(f\"Neg/Pos ratio: {df_pred_result['sentiment'].sum()}/{df_pred_result.shape[0]-df_pred_result['sentiment'].sum()}\")\n",
    "print(f\"Sentiment Score: {sentiment_score:.5f}\")\n"
   ]
  },
  {
   "cell_type": "code",
   "execution_count": 11,
   "metadata": {},
   "outputs": [
    {
     "data": {
      "text/html": [
       "<div>\n",
       "<style scoped>\n",
       "    .dataframe tbody tr th:only-of-type {\n",
       "        vertical-align: middle;\n",
       "    }\n",
       "\n",
       "    .dataframe tbody tr th {\n",
       "        vertical-align: top;\n",
       "    }\n",
       "\n",
       "    .dataframe thead th {\n",
       "        text-align: right;\n",
       "    }\n",
       "</style>\n",
       "<table border=\"1\" class=\"dataframe\">\n",
       "  <thead>\n",
       "    <tr style=\"text-align: right;\">\n",
       "      <th></th>\n",
       "      <th>review_adj</th>\n",
       "      <th>vader_compound</th>\n",
       "      <th>label_negword</th>\n",
       "    </tr>\n",
       "  </thead>\n",
       "  <tbody>\n",
       "    <tr>\n",
       "      <th>120</th>\n",
       "      <td>ông nào chưa test kĩ đã deploy prod ngày rồi không vào được</td>\n",
       "      <td>1</td>\n",
       "      <td>1</td>\n",
       "    </tr>\n",
       "    <tr>\n",
       "      <th>122</th>\n",
       "      <td>lỗi liên tọi đổi mật khẩu cả tiếng đồng hồ không xong</td>\n",
       "      <td>1</td>\n",
       "      <td>1</td>\n",
       "    </tr>\n",
       "    <tr>\n",
       "      <th>123</th>\n",
       "      <td>app này giao diện quá xấu thua app cũ nói chung là nhìn chẳng muốn xài nên học hỏi app của vcb</td>\n",
       "      <td>1</td>\n",
       "      <td>1</td>\n",
       "    </tr>\n",
       "    <tr>\n",
       "      <th>125</th>\n",
       "      <td>quá chậm</td>\n",
       "      <td>0</td>\n",
       "      <td>1</td>\n",
       "    </tr>\n",
       "    <tr>\n",
       "      <th>126</th>\n",
       "      <td>ứng dụng quá tệ thường xuyên lag giao dịch chuyển tiền lỗi mình bị trừ tiền bên kia không nhận được chờ đến ngày thứ rồi tiền không được hoàn về và người nhận vẫn không nhận được tiền</td>\n",
       "      <td>1</td>\n",
       "      <td>1</td>\n",
       "    </tr>\n",
       "    <tr>\n",
       "      <th>127</th>\n",
       "      <td>chả hiểu kiểu gì chuyển tiền tiền trừ mà thông báo hay lịch sử đều không có</td>\n",
       "      <td>0</td>\n",
       "      <td>1</td>\n",
       "    </tr>\n",
       "    <tr>\n",
       "      <th>128</th>\n",
       "      <td>đổi pin otp xong không xài được luôn báo sai pin mặc dù nhập đúng</td>\n",
       "      <td>1</td>\n",
       "      <td>1</td>\n",
       "    </tr>\n",
       "    <tr>\n",
       "      <th>129</th>\n",
       "      <td>nâng cấp lên làm gì không biết vô web không được sao kê giao dịch cũng không được</td>\n",
       "      <td>0</td>\n",
       "      <td>1</td>\n",
       "    </tr>\n",
       "    <tr>\n",
       "      <th>130</th>\n",
       "      <td>app mới như không được có mỗi cái tính năng chuyển tiền mà thao tác quá nhiều bước đã vậy còn không lưu được danh bạ để chuyển tiền đã xài vib năm chắc phải đổi sang app khác thôi</td>\n",
       "      <td>1</td>\n",
       "      <td>1</td>\n",
       "    </tr>\n",
       "    <tr>\n",
       "      <th>131</th>\n",
       "      <td>đưa ra nhiều chương trình ưu đãi miễn phí thường niên với các điều khoản không rõ ràng đánh đố trình độ hiểu biết của khách hàng</td>\n",
       "      <td>0</td>\n",
       "      <td>1</td>\n",
       "    </tr>\n",
       "    <tr>\n",
       "      <th>132</th>\n",
       "      <td>lỗi quá nhiều</td>\n",
       "      <td>1</td>\n",
       "      <td>1</td>\n",
       "    </tr>\n",
       "    <tr>\n",
       "      <th>133</th>\n",
       "      <td>một cái app ngân hàng ngu chưa từng thấy</td>\n",
       "      <td>1</td>\n",
       "      <td>1</td>\n",
       "    </tr>\n",
       "    <tr>\n",
       "      <th>134</th>\n",
       "      <td>mình có đổi otp rồi khi chuyển tiền có nhập đúng mà toàn báo sai không đúng otp</td>\n",
       "      <td>1</td>\n",
       "      <td>1</td>\n",
       "    </tr>\n",
       "    <tr>\n",
       "      <th>135</th>\n",
       "      <td>vib tự huỷ rồi bản rất okela mà bản quá tồi chậm lag ux ui đều kém cố dùng nhưng xong phải bỏ vì không nộp được tiền điện mà chuyển qua mất luôn ib trên web không đăng nhập được má ơi giờ mất điện thoại hay điện thoạ...</td>\n",
       "      <td>1</td>\n",
       "      <td>1</td>\n",
       "    </tr>\n",
       "  </tbody>\n",
       "</table>\n",
       "</div>"
      ],
      "text/plain": [
       "                                                                                                                                                                                                                      review_adj  \\\n",
       "120                                                                                                                                                                  ông nào chưa test kĩ đã deploy prod ngày rồi không vào được   \n",
       "122                                                                                                                                                                        lỗi liên tọi đổi mật khẩu cả tiếng đồng hồ không xong   \n",
       "123                                                                                                                               app này giao diện quá xấu thua app cũ nói chung là nhìn chẳng muốn xài nên học hỏi app của vcb   \n",
       "125                                                                                                                                                                                                                     quá chậm   \n",
       "126                                      ứng dụng quá tệ thường xuyên lag giao dịch chuyển tiền lỗi mình bị trừ tiền bên kia không nhận được chờ đến ngày thứ rồi tiền không được hoàn về và người nhận vẫn không nhận được tiền   \n",
       "127                                                                                                                                                  chả hiểu kiểu gì chuyển tiền tiền trừ mà thông báo hay lịch sử đều không có   \n",
       "128                                                                                                                                                            đổi pin otp xong không xài được luôn báo sai pin mặc dù nhập đúng   \n",
       "129                                                                                                                                            nâng cấp lên làm gì không biết vô web không được sao kê giao dịch cũng không được   \n",
       "130                                          app mới như không được có mỗi cái tính năng chuyển tiền mà thao tác quá nhiều bước đã vậy còn không lưu được danh bạ để chuyển tiền đã xài vib năm chắc phải đổi sang app khác thôi   \n",
       "131                                                                                             đưa ra nhiều chương trình ưu đãi miễn phí thường niên với các điều khoản không rõ ràng đánh đố trình độ hiểu biết của khách hàng   \n",
       "132                                                                                                                                                                                                                lỗi quá nhiều   \n",
       "133                                                                                                                                                                                     một cái app ngân hàng ngu chưa từng thấy   \n",
       "134                                                                                                                                              mình có đổi otp rồi khi chuyển tiền có nhập đúng mà toàn báo sai không đúng otp   \n",
       "135  vib tự huỷ rồi bản rất okela mà bản quá tồi chậm lag ux ui đều kém cố dùng nhưng xong phải bỏ vì không nộp được tiền điện mà chuyển qua mất luôn ib trên web không đăng nhập được má ơi giờ mất điện thoại hay điện thoạ...   \n",
       "\n",
       "     vader_compound  label_negword  \n",
       "120               1              1  \n",
       "122               1              1  \n",
       "123               1              1  \n",
       "125               0              1  \n",
       "126               1              1  \n",
       "127               0              1  \n",
       "128               1              1  \n",
       "129               0              1  \n",
       "130               1              1  \n",
       "131               0              1  \n",
       "132               1              1  \n",
       "133               1              1  \n",
       "134               1              1  \n",
       "135               1              1  "
      ]
     },
     "execution_count": 11,
     "metadata": {},
     "output_type": "execute_result"
    }
   ],
   "source": [
    "pd.options.display.max_colwidth = 220\n",
    "df_pred_result[df_pred_result['sentiment']==1][['review_adj','vader_compound','label_negword']][75:100]"
   ]
  },
  {
   "cell_type": "markdown",
   "metadata": {},
   "source": [
    "### END\n",
    "______________________________________________________________________________________________________________________________________________________________________________________"
   ]
  },
  {
   "cell_type": "code",
   "execution_count": 32,
   "metadata": {},
   "outputs": [
    {
     "ename": "SystemExit",
     "evalue": "",
     "output_type": "error",
     "traceback": [
      "An exception has occurred, use %tb to see the full traceback.\n",
      "\u001b[1;31mSystemExit\u001b[0m\n"
     ]
    },
    {
     "name": "stderr",
     "output_type": "stream",
     "text": [
      "c:\\ProgramData\\Anaconda3\\lib\\site-packages\\IPython\\core\\interactiveshell.py:3377: UserWarning: To exit: use 'exit', 'quit', or Ctrl-D.\n",
      "  warn(\"To exit: use 'exit', 'quit', or Ctrl-D.\", stacklevel=1)\n"
     ]
    }
   ],
   "source": [
    "sys.exit()"
   ]
  },
  {
   "cell_type": "markdown",
   "metadata": {},
   "source": [
    "### [PHUONG] SENTIMENT PREDICTION for \"Interal Rating\" data \n"
   ]
  },
  {
   "cell_type": "code",
   "execution_count": null,
   "metadata": {},
   "outputs": [
    {
     "name": "stdout",
     "output_type": "stream",
     "text": [
      "4233\n",
      "There are 4233 new reviews\n"
     ]
    }
   ],
   "source": [
    "import cx_Oracle as ora\n",
    "\n",
    "# Query data from DEC\n",
    "dsnStr = ora.makedsn(host = '10.60.54.12', port = '1521', service_name = 'DEC_DATA')\n",
    "con = ora.connect(user = 'ADM42244NHANNT', password = 'Vibhn321#!', dsn = dsnStr)\n",
    "c = con.cursor()\n",
    "result = c.execute('select * from dec_bu.u_raw_internal_rating_info').fetchall()\n",
    "df_ir = pd.DataFrame(result)\n",
    "df_ir.columns = [x[0] for x in c.description]\n",
    "\n",
    "# fill Nan Value\n",
    "df_ir['RATING_COMMENT'] = df_ir['RATING_COMMENT'].apply(lambda x: 0 if (x=='nan') else x)\n",
    "\n",
    "# Get comment having content\n",
    "df_w = df_ir[df_ir['RATING_COMMENT']!=0]\n",
    "#df_w = df_w[['USER_NAME','RATING_COMMENT','RATING_POINT']]\n",
    "df_w = df_w.rename(columns={'USER_NAME':'username','RATING_COMMENT':'review','RATING_POINT':'rating'})\n",
    "print(df_w.shape[0])\n",
    "\n",
    "# Run Sentiment Prediction\n",
    "df_pred_result = sentiment_prediction(df_w, tfidf_convertor='./model/TFIDF_VECTORIZER_app.pk', sentiment_model='./model/SENTIMENT_MODEL_mnb_app.sav', pred_out_file='./internal_rating_sentiment.csv')\n",
    "df_pred_result[['review','review_en','review_clean','vader_compound','sentiment']]"
   ]
  }
 ],
 "metadata": {
  "kernelspec": {
   "display_name": "Python 3.9.12 ('base')",
   "language": "python",
   "name": "python3"
  },
  "language_info": {
   "codemirror_mode": {
    "name": "ipython",
    "version": 3
   },
   "file_extension": ".py",
   "mimetype": "text/x-python",
   "name": "python",
   "nbconvert_exporter": "python",
   "pygments_lexer": "ipython3",
   "version": "3.9.12"
  },
  "orig_nbformat": 4,
  "vscode": {
   "interpreter": {
    "hash": "172c4a3b085fdb374d45bc607bca2c69ba2fb7e6614652845a659383d70f67a3"
   }
  }
 },
 "nbformat": 4,
 "nbformat_minor": 2
}
