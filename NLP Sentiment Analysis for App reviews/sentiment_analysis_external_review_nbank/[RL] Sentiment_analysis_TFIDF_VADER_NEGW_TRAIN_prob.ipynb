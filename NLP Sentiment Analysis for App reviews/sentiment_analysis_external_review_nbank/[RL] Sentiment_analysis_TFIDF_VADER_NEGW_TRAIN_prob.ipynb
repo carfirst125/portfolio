{
 "cells": [
  {
   "cell_type": "markdown",
   "metadata": {},
   "source": [
    "### Sentiment Analysis - Version 02 (TFIDF-VADER)\n",
    "\n",
    "+ Data source: MyVIB1, MyVIB2 in Android and iOS\n",
    "\n",
    "Data Processing:\n",
    "+ Vietnamese: correct typo by looking up the dictionary\n",
    "+ Vietnamese: count the negative sentiment word in review sentence\n",
    "+ Vietnamese to English: Google translate\n",
    "+ English:    clean english text data (remove stopwords, etc.)\n",
    "\n",
    "Feature engineer:\n",
    "+ TF-IDF : get 1000 features\n",
    "+ VADER  : get vader compound score\n",
    "+ Negative Word: get potential mark of negative sentiment \n",
    "\n",
    "\n",
    "TRAIN:\n",
    "+ Feature: TF-IDF, VADER, NEGATIVE_WORD | LABEL (RATING<4|NEGATIVE_WORD>0)\n",
    "\n",
    "\n"
   ]
  },
  {
   "cell_type": "code",
   "execution_count": 1,
   "metadata": {},
   "outputs": [],
   "source": [
    "import json\n",
    "import pandas as pd\n",
    "import numpy as np\n",
    "\n",
    "from tqdm import tqdm\n",
    "from string import punctuation\n",
    "import seaborn as sns\n",
    "import matplotlib.pyplot as plt\n",
    "from itertools import groupby\n",
    "import sys\n",
    "\n",
    "import regex as re\n",
    "from deep_translator import GoogleTranslator\n",
    "\n",
    "from collections import Counter\n",
    "\n",
    "import textacy.preprocessing.normalize as tprep\n",
    "from textacy.preprocessing.remove import accents\n",
    "import string\n",
    "\n",
    "import nltk\n",
    "from nltk.corpus import opinion_lexicon,wordnet,stopwords\n",
    "from nltk.tokenize import word_tokenize, WhitespaceTokenizer\n",
    "from nltk.stem import WordNetLemmatizer\n",
    "import os\n",
    "from datetime import date\n",
    "import datetime\n",
    "import time\n",
    "import shutil\n",
    "import os\n",
    "\n",
    "import enchant\n",
    "dict_english = enchant.Dict(\"en_US\")\n",
    "\n",
    "#from TopicModeling import *\n",
    "import pickle\n",
    "\n",
    "# Android\n",
    "from google_play_scraper import Sort, reviews, app, reviews_all\n",
    "\n",
    "# iOS\n",
    "from app_store_scraper import AppStore"
   ]
  },
  {
   "cell_type": "code",
   "execution_count": 5,
   "metadata": {},
   "outputs": [
    {
     "name": "stderr",
     "output_type": "stream",
     "text": [
      "[nltk_data] Downloading package stopwords to\n",
      "[nltk_data]     C:\\Users\\nhan.ngothanh1\\AppData\\Roaming\\nltk_data...\n",
      "[nltk_data]   Package stopwords is already up-to-date!\n",
      "[nltk_data] Downloading package opinion_lexicon to\n",
      "[nltk_data]     C:\\Users\\nhan.ngothanh1\\AppData\\Roaming\\nltk_data...\n",
      "[nltk_data]   Package opinion_lexicon is already up-to-date!\n",
      "[nltk_data] Downloading package averaged_perceptron_tagger to\n",
      "[nltk_data]     C:\\Users\\nhan.ngothanh1\\AppData\\Roaming\\nltk_data...\n",
      "[nltk_data]   Package averaged_perceptron_tagger is already up-to-\n",
      "[nltk_data]       date!\n",
      "[nltk_data] Downloading package wordnet to\n",
      "[nltk_data]     C:\\Users\\nhan.ngothanh1\\AppData\\Roaming\\nltk_data...\n",
      "[nltk_data]   Package wordnet is already up-to-date!\n",
      "[nltk_data] Downloading package punkt to\n",
      "[nltk_data]     C:\\Users\\nhan.ngothanh1\\AppData\\Roaming\\nltk_data...\n",
      "[nltk_data]   Package punkt is already up-to-date!\n",
      "[nltk_data] Downloading package omw-1.4 to\n",
      "[nltk_data]     C:\\Users\\nhan.ngothanh1\\AppData\\Roaming\\nltk_data...\n",
      "[nltk_data]   Package omw-1.4 is already up-to-date!\n",
      "[nltk_data] Downloading package vader_lexicon to\n",
      "[nltk_data]     C:\\Users\\nhan.ngothanh1\\AppData\\Roaming\\nltk_data...\n",
      "[nltk_data]   Package vader_lexicon is already up-to-date!\n"
     ]
    }
   ],
   "source": [
    "# included code\n",
    "import sys\n",
    "\n",
    "sys.path.append('./mylib')\n",
    "import global_materials\n",
    "from load import *\n",
    "from sentiment_process import *\n",
    "\n",
    "stopwords = global_materials.stopwords"
   ]
  },
  {
   "cell_type": "code",
   "execution_count": 6,
   "metadata": {},
   "outputs": [],
   "source": [
    "# Parameter set\n",
    "bank_array = ['tcb','tpb','bid','vcb','mb'] "
   ]
  },
  {
   "cell_type": "markdown",
   "metadata": {},
   "source": [
    "#### FOLDER STRUCTURE"
   ]
  },
  {
   "cell_type": "code",
   "execution_count": 7,
   "metadata": {},
   "outputs": [],
   "source": [
    "today = date.today()\n",
    "TRAIN_ROOT = './data/train'\n",
    "\n",
    "if not os.path.exists(\"model\"):\n",
    "    os.mkdir(\"model\")\n",
    "if not os.path.exists(\"data\"):\n",
    "    os.mkdir(\"data\")\n",
    "if not os.path.exists(TRAIN_ROOT):\n",
    "    os.mkdir(TRAIN_ROOT)\n",
    "if not os.path.exists(TRAIN_ROOT+\"/translate_\"+str(today)):\n",
    "    os.mkdir(TRAIN_ROOT+\"/translate_\"+str(today))"
   ]
  },
  {
   "cell_type": "markdown",
   "metadata": {},
   "source": [
    "#### DATA COLLECTION\n",
    "**1) ANDROID**"
   ]
  },
  {
   "cell_type": "code",
   "execution_count": 9,
   "metadata": {},
   "outputs": [
    {
     "name": "stdout",
     "output_type": "stream",
     "text": [
      "tcb: (18789, 10)\n",
      "tpb: (30115, 10)\n",
      "bid: (94, 10)\n",
      "vcb: (39060, 10)\n",
      "mb: (2085, 10)\n",
      "(90143, 11)\n"
     ]
    },
    {
     "name": "stderr",
     "output_type": "stream",
     "text": [
      "C:\\Users\\nhan.ngothanh1\\AppData\\Local\\Temp\\ipykernel_640\\3810009053.py:35: SettingWithCopyWarning: \n",
      "A value is trying to be set on a copy of a slice from a DataFrame\n",
      "\n",
      "See the caveats in the documentation: https://pandas.pydata.org/pandas-docs/stable/user_guide/indexing.html#returning-a-view-versus-a-copy\n",
      "  df_android_used.rename(columns = {'userName':'username','content':'review','at':'date','score':'rating'}, inplace=True)\n"
     ]
    },
    {
     "name": "stdout",
     "output_type": "stream",
     "text": [
      "(90143, 5)\n"
     ]
    },
    {
     "name": "stderr",
     "output_type": "stream",
     "text": [
      "C:\\Users\\nhan.ngothanh1\\AppData\\Local\\Temp\\ipykernel_640\\3810009053.py:38: SettingWithCopyWarning: \n",
      "A value is trying to be set on a copy of a slice from a DataFrame.\n",
      "Try using .loc[row_indexer,col_indexer] = value instead\n",
      "\n",
      "See the caveats in the documentation: https://pandas.pydata.org/pandas-docs/stable/user_guide/indexing.html#returning-a-view-versus-a-copy\n",
      "  df_android_used['date'] = df_android_used['date'].apply(lambda x: x.strftime(\"%Y-%m-%d %H:%M:%S\"))\n"
     ]
    },
    {
     "data": {
      "text/html": [
       "<div>\n",
       "<style scoped>\n",
       "    .dataframe tbody tr th:only-of-type {\n",
       "        vertical-align: middle;\n",
       "    }\n",
       "\n",
       "    .dataframe tbody tr th {\n",
       "        vertical-align: top;\n",
       "    }\n",
       "\n",
       "    .dataframe thead th {\n",
       "        text-align: right;\n",
       "    }\n",
       "</style>\n",
       "<table border=\"1\" class=\"dataframe\">\n",
       "  <thead>\n",
       "    <tr style=\"text-align: right;\">\n",
       "      <th></th>\n",
       "      <th>username</th>\n",
       "      <th>review</th>\n",
       "      <th>date</th>\n",
       "      <th>m_y</th>\n",
       "      <th>rating</th>\n",
       "    </tr>\n",
       "  </thead>\n",
       "  <tbody>\n",
       "    <tr>\n",
       "      <th>0</th>\n",
       "      <td>Hoangkha Nguyen</td>\n",
       "      <td>Rát hây</td>\n",
       "      <td>2022-09-25 05:35:30</td>\n",
       "      <td>92022</td>\n",
       "      <td>5</td>\n",
       "    </tr>\n",
       "  </tbody>\n",
       "</table>\n",
       "</div>"
      ],
      "text/plain": [
       "          username   review                 date    m_y rating\n",
       "0  Hoangkha Nguyen  Rát hây  2022-09-25 05:35:30  92022      5"
      ]
     },
     "execution_count": 9,
     "metadata": {},
     "output_type": "execute_result"
    }
   ],
   "source": [
    "\n",
    "rw_android_src_dict = {'vib1':['com.vn.vib.mobileapp','vi','vn'],\n",
    "                       'vib2':['com.vib.myvib2','vi','vn'],\n",
    "                       'tcb':['vn.com.techcombank.bb.app','vi','vn'],\n",
    "                       'tpb':['com.tpb.mb.gprsandroid','vi','vn'],\n",
    "                       'bid':['vn.com.bidv.ibank','vi','vn'],\n",
    "                       'vcb':['com.VCB','vi','vn'],\n",
    "                       'mb':['com.mbcorp','vi','vn']\n",
    "                       }\n",
    "#----------------------------------------------------------------------------------------------------------\n",
    "# get Android review\n",
    "column = ['reviewId','userName','userImage','content','score','thumbsUpCount','reviewCreatedVersion','at','replyContent','repliedAt','bankapp']\n",
    "df_android_rw = pd.DataFrame(columns = column)\n",
    "\n",
    "get_review_in = bank_array #rw_android_src_dict.keys()\n",
    "\n",
    "for bank_name in get_review_in:\n",
    "    Andrw_df = get_rwdata_android(rw_android_src_dict, bank_name, save_path=TRAIN_ROOT)   \n",
    "    Andrw_df['bankapp'] = bank_name\n",
    "    df_android_rw = pd.concat([df_android_rw, Andrw_df])\n",
    "    time.sleep(30)\n",
    "    \n",
    "df_android_rw.reset_index(drop=True, inplace=True)\n",
    "df_android_rw.to_csv(TRAIN_ROOT+'/1_AndRaw_'+str(today)+'_nbank.csv', index=False)\n",
    "\n",
    "print(df_android_rw.shape)\n",
    "df_android_rw.head(1)\n",
    "\n",
    "#----------------------------------------------------------------------------------------------------------\n",
    "df_android_rw['month'] = pd.DatetimeIndex(df_android_rw['at']).month\n",
    "df_android_rw['year'] = pd.DatetimeIndex(df_android_rw['at']).year\n",
    "df_android_rw['m_y'] = df_android_rw['month'].astype(str)+df_android_rw['year'].astype(str)\n",
    "\n",
    "#JUST RAW\n",
    "df_android_used = df_android_rw[['userName','content','at','m_y','score']]\n",
    "df_android_used.rename(columns = {'userName':'username','content':'review','at':'date','score':'rating'}, inplace=True)\n",
    "\n",
    "# Convert timetamps to string\n",
    "df_android_used['date'] = df_android_used['date'].apply(lambda x: x.strftime(\"%Y-%m-%d %H:%M:%S\"))\n",
    "print(df_android_used.shape)\n",
    "df_android_used.head(1)\n"
   ]
  },
  {
   "cell_type": "markdown",
   "metadata": {},
   "source": [
    "**2) iOS**"
   ]
  },
  {
   "cell_type": "code",
   "execution_count": 10,
   "metadata": {},
   "outputs": [
    {
     "name": "stderr",
     "output_type": "stream",
     "text": [
      "2022-09-26 09:20:10,844 [INFO] Base - Initialised: AppStore('vn', 'techcombank-mobile', 1548623362)\n",
      "2022-09-26 09:20:10,845 [INFO] Base - Ready to fetch reviews from: https://apps.apple.com/vn/app/techcombank-mobile/id1548623362\n",
      "2022-09-26 09:20:16,491 [INFO] Base - [id:1548623362] Fetched 220 reviews (220 fetched in total)\n",
      "2022-09-26 09:20:24,770 [INFO] Base - [id:1548623362] Fetched 500 reviews (500 fetched in total)\n",
      "2022-09-26 09:20:30,220 [INFO] Base - [id:1548623362] Fetched 800 reviews (800 fetched in total)\n",
      "2022-09-26 09:20:35,898 [INFO] Base - [id:1548623362] Fetched 1000 reviews (1000 fetched in total)\n",
      "2022-09-26 09:20:42,390 [INFO] Base - [id:1548623362] Fetched 1260 reviews (1260 fetched in total)\n",
      "2022-09-26 09:20:47,975 [INFO] Base - [id:1548623362] Fetched 1540 reviews (1540 fetched in total)\n",
      "2022-09-26 09:20:54,703 [INFO] Base - [id:1548623362] Fetched 1800 reviews (1800 fetched in total)\n",
      "2022-09-26 09:21:00,924 [INFO] Base - [id:1548623362] Fetched 2020 reviews (2020 fetched in total)\n",
      "2022-09-26 09:21:06,848 [INFO] Base - [id:1548623362] Fetched 2360 reviews (2360 fetched in total)\n",
      "2022-09-26 09:21:13,300 [INFO] Base - [id:1548623362] Fetched 2680 reviews (2680 fetched in total)\n",
      "2022-09-26 09:21:19,231 [INFO] Base - [id:1548623362] Fetched 2960 reviews (2960 fetched in total)\n",
      "2022-09-26 09:21:24,604 [INFO] Base - [id:1548623362] Fetched 3260 reviews (3260 fetched in total)\n",
      "2022-09-26 09:21:29,920 [INFO] Base - [id:1548623362] Fetched 3600 reviews (3600 fetched in total)\n",
      "2022-09-26 09:21:35,346 [INFO] Base - [id:1548623362] Fetched 3900 reviews (3900 fetched in total)\n",
      "2022-09-26 09:21:40,849 [INFO] Base - [id:1548623362] Fetched 4220 reviews (4220 fetched in total)\n",
      "2022-09-26 09:21:46,217 [INFO] Base - [id:1548623362] Fetched 4460 reviews (4460 fetched in total)\n",
      "2022-09-26 09:21:51,752 [INFO] Base - [id:1548623362] Fetched 4700 reviews (4700 fetched in total)\n",
      "2022-09-26 09:21:57,353 [INFO] Base - [id:1548623362] Fetched 5020 reviews (5020 fetched in total)\n",
      "2022-09-26 09:22:02,803 [INFO] Base - [id:1548623362] Fetched 5360 reviews (5360 fetched in total)\n",
      "2022-09-26 09:22:09,361 [INFO] Base - [id:1548623362] Fetched 5580 reviews (5580 fetched in total)\n",
      "2022-09-26 09:22:15,712 [INFO] Base - [id:1548623362] Fetched 5900 reviews (5900 fetched in total)\n",
      "2022-09-26 09:22:21,357 [INFO] Base - [id:1548623362] Fetched 6220 reviews (6220 fetched in total)\n",
      "2022-09-26 09:22:26,735 [INFO] Base - [id:1548623362] Fetched 6540 reviews (6540 fetched in total)\n",
      "2022-09-26 09:22:32,144 [INFO] Base - [id:1548623362] Fetched 6840 reviews (6840 fetched in total)\n",
      "2022-09-26 09:22:39,340 [INFO] Base - [id:1548623362] Fetched 7120 reviews (7120 fetched in total)\n",
      "2022-09-26 09:22:45,050 [INFO] Base - [id:1548623362] Fetched 7340 reviews (7340 fetched in total)\n",
      "2022-09-26 09:22:50,418 [INFO] Base - [id:1548623362] Fetched 7640 reviews (7640 fetched in total)\n",
      "2022-09-26 09:22:53,089 [INFO] Base - [id:1548623362] Fetched 7763 reviews (7763 fetched in total)\n"
     ]
    },
    {
     "name": "stdout",
     "output_type": "stream",
     "text": [
      "tcb: (7763, 7)\n"
     ]
    },
    {
     "name": "stderr",
     "output_type": "stream",
     "text": [
      "2022-09-26 09:23:24,410 [INFO] Base - Initialised: AppStore('vn', 'tpbank-mobile', 450464147)\n",
      "2022-09-26 09:23:24,411 [INFO] Base - Ready to fetch reviews from: https://apps.apple.com/vn/app/tpbank-mobile/id450464147\n",
      "2022-09-26 09:23:29,713 [INFO] Base - [id:450464147] Fetched 260 reviews (260 fetched in total)\n",
      "2022-09-26 09:23:35,188 [INFO] Base - [id:450464147] Fetched 580 reviews (580 fetched in total)\n",
      "2022-09-26 09:23:40,479 [INFO] Base - [id:450464147] Fetched 900 reviews (900 fetched in total)\n",
      "2022-09-26 09:23:46,582 [INFO] Base - [id:450464147] Fetched 1200 reviews (1200 fetched in total)\n",
      "2022-09-26 09:23:52,163 [INFO] Base - [id:450464147] Fetched 1540 reviews (1540 fetched in total)\n",
      "2022-09-26 09:23:57,700 [INFO] Base - [id:450464147] Fetched 1860 reviews (1860 fetched in total)\n",
      "2022-09-26 09:24:03,115 [INFO] Base - [id:450464147] Fetched 2040 reviews (2040 fetched in total)\n",
      "2022-09-26 09:24:08,658 [INFO] Base - [id:450464147] Fetched 2300 reviews (2300 fetched in total)\n",
      "2022-09-26 09:24:14,238 [INFO] Base - [id:450464147] Fetched 2580 reviews (2580 fetched in total)\n",
      "2022-09-26 09:24:21,153 [INFO] Base - [id:450464147] Fetched 2840 reviews (2840 fetched in total)\n",
      "2022-09-26 09:24:26,596 [INFO] Base - [id:450464147] Fetched 3100 reviews (3100 fetched in total)\n",
      "2022-09-26 09:24:32,375 [INFO] Base - [id:450464147] Fetched 3420 reviews (3420 fetched in total)\n",
      "2022-09-26 09:24:37,985 [INFO] Base - [id:450464147] Fetched 3700 reviews (3700 fetched in total)\n",
      "2022-09-26 09:24:43,527 [INFO] Base - [id:450464147] Fetched 3980 reviews (3980 fetched in total)\n",
      "2022-09-26 09:24:49,261 [INFO] Base - [id:450464147] Fetched 4240 reviews (4240 fetched in total)\n",
      "2022-09-26 09:24:55,662 [INFO] Base - [id:450464147] Fetched 4480 reviews (4480 fetched in total)\n",
      "2022-09-26 09:25:01,269 [INFO] Base - [id:450464147] Fetched 4720 reviews (4720 fetched in total)\n",
      "2022-09-26 09:25:06,679 [INFO] Base - [id:450464147] Fetched 4960 reviews (4960 fetched in total)\n",
      "2022-09-26 09:25:12,073 [INFO] Base - [id:450464147] Fetched 5140 reviews (5140 fetched in total)\n",
      "2022-09-26 09:25:17,656 [INFO] Base - [id:450464147] Fetched 5420 reviews (5420 fetched in total)\n",
      "2022-09-26 09:25:23,064 [INFO] Base - [id:450464147] Fetched 5640 reviews (5640 fetched in total)\n",
      "2022-09-26 09:25:28,465 [INFO] Base - [id:450464147] Fetched 5900 reviews (5900 fetched in total)\n",
      "2022-09-26 09:25:33,907 [INFO] Base - [id:450464147] Fetched 6100 reviews (6100 fetched in total)\n",
      "2022-09-26 09:25:39,259 [INFO] Base - [id:450464147] Fetched 6340 reviews (6340 fetched in total)\n",
      "2022-09-26 09:25:44,806 [INFO] Base - [id:450464147] Fetched 6640 reviews (6640 fetched in total)\n",
      "2022-09-26 09:25:50,545 [INFO] Base - [id:450464147] Fetched 6880 reviews (6880 fetched in total)\n",
      "2022-09-26 09:25:55,937 [INFO] Base - [id:450464147] Fetched 7160 reviews (7160 fetched in total)\n",
      "2022-09-26 09:26:01,426 [INFO] Base - [id:450464147] Fetched 7400 reviews (7400 fetched in total)\n",
      "2022-09-26 09:26:04,756 [INFO] Base - [id:450464147] Fetched 7553 reviews (7553 fetched in total)\n"
     ]
    },
    {
     "name": "stdout",
     "output_type": "stream",
     "text": [
      "tpb: (7553, 7)\n"
     ]
    },
    {
     "name": "stderr",
     "output_type": "stream",
     "text": [
      "2022-09-26 09:26:35,856 [INFO] Base - Initialised: AppStore('vn', 'smartbanking', 1061867449)\n",
      "2022-09-26 09:26:35,856 [INFO] Base - Ready to fetch reviews from: https://apps.apple.com/vn/app/smartbanking/id1061867449\n",
      "2022-09-26 09:26:41,389 [INFO] Base - [id:1061867449] Fetched 280 reviews (280 fetched in total)\n",
      "2022-09-26 09:26:47,155 [INFO] Base - [id:1061867449] Fetched 480 reviews (480 fetched in total)\n",
      "2022-09-26 09:26:52,625 [INFO] Base - [id:1061867449] Fetched 720 reviews (720 fetched in total)\n",
      "2022-09-26 09:26:58,423 [INFO] Base - [id:1061867449] Fetched 1040 reviews (1040 fetched in total)\n",
      "2022-09-26 09:27:04,124 [INFO] Base - [id:1061867449] Fetched 1260 reviews (1260 fetched in total)\n",
      "2022-09-26 09:27:09,838 [INFO] Base - [id:1061867449] Fetched 1560 reviews (1560 fetched in total)\n",
      "2022-09-26 09:27:15,315 [INFO] Base - [id:1061867449] Fetched 1800 reviews (1800 fetched in total)\n",
      "2022-09-26 09:27:21,169 [INFO] Base - [id:1061867449] Fetched 2100 reviews (2100 fetched in total)\n",
      "2022-09-26 09:27:26,789 [INFO] Base - [id:1061867449] Fetched 2380 reviews (2380 fetched in total)\n",
      "2022-09-26 09:27:33,643 [INFO] Base - [id:1061867449] Fetched 2680 reviews (2680 fetched in total)\n",
      "2022-09-26 09:27:40,127 [INFO] Base - [id:1061867449] Fetched 2940 reviews (2940 fetched in total)\n",
      "2022-09-26 09:27:45,494 [INFO] Base - [id:1061867449] Fetched 3140 reviews (3140 fetched in total)\n",
      "2022-09-26 09:27:52,147 [INFO] Base - [id:1061867449] Fetched 3440 reviews (3440 fetched in total)\n",
      "2022-09-26 09:27:58,174 [INFO] Base - [id:1061867449] Fetched 3740 reviews (3740 fetched in total)\n",
      "2022-09-26 09:28:03,547 [INFO] Base - [id:1061867449] Fetched 4040 reviews (4040 fetched in total)\n",
      "2022-09-26 09:28:08,341 [INFO] Base - [id:1061867449] Fetched 4235 reviews (4235 fetched in total)\n"
     ]
    },
    {
     "name": "stdout",
     "output_type": "stream",
     "text": [
      "bid: (4235, 7)\n"
     ]
    },
    {
     "name": "stderr",
     "output_type": "stream",
     "text": [
      "2022-09-26 09:28:43,028 [INFO] Base - Initialised: AppStore('vn', 'vietcombank', 561433133)\n",
      "2022-09-26 09:28:43,030 [INFO] Base - Ready to fetch reviews from: https://apps.apple.com/vn/app/vietcombank/id561433133\n",
      "2022-09-26 09:28:48,292 [INFO] Base - [id:561433133] Fetched 160 reviews (160 fetched in total)\n",
      "2022-09-26 09:28:53,789 [INFO] Base - [id:561433133] Fetched 440 reviews (440 fetched in total)\n",
      "2022-09-26 09:28:59,399 [INFO] Base - [id:561433133] Fetched 780 reviews (780 fetched in total)\n",
      "2022-09-26 09:29:05,034 [INFO] Base - [id:561433133] Fetched 1020 reviews (1020 fetched in total)\n",
      "2022-09-26 09:29:11,358 [INFO] Base - [id:561433133] Fetched 1320 reviews (1320 fetched in total)\n",
      "2022-09-26 09:29:17,111 [INFO] Base - [id:561433133] Fetched 1540 reviews (1540 fetched in total)\n",
      "2022-09-26 09:29:22,940 [INFO] Base - [id:561433133] Fetched 1820 reviews (1820 fetched in total)\n",
      "2022-09-26 09:29:28,397 [INFO] Base - [id:561433133] Fetched 2080 reviews (2080 fetched in total)\n",
      "2022-09-26 09:29:33,925 [INFO] Base - [id:561433133] Fetched 2240 reviews (2240 fetched in total)\n",
      "2022-09-26 09:29:39,397 [INFO] Base - [id:561433133] Fetched 2500 reviews (2500 fetched in total)\n",
      "2022-09-26 09:29:46,226 [INFO] Base - [id:561433133] Fetched 2820 reviews (2820 fetched in total)\n",
      "2022-09-26 09:29:52,811 [INFO] Base - [id:561433133] Fetched 3120 reviews (3120 fetched in total)\n",
      "2022-09-26 09:29:58,400 [INFO] Base - [id:561433133] Fetched 3400 reviews (3400 fetched in total)\n",
      "2022-09-26 09:30:04,038 [INFO] Base - [id:561433133] Fetched 3700 reviews (3700 fetched in total)\n",
      "2022-09-26 09:30:10,091 [INFO] Base - [id:561433133] Fetched 3980 reviews (3980 fetched in total)\n",
      "2022-09-26 09:30:16,647 [INFO] Base - [id:561433133] Fetched 4260 reviews (4260 fetched in total)\n",
      "2022-09-26 09:30:22,367 [INFO] Base - [id:561433133] Fetched 4540 reviews (4540 fetched in total)\n",
      "2022-09-26 09:30:27,796 [INFO] Base - [id:561433133] Fetched 4780 reviews (4780 fetched in total)\n",
      "2022-09-26 09:30:34,080 [INFO] Base - [id:561433133] Fetched 5080 reviews (5080 fetched in total)\n",
      "2022-09-26 09:30:39,761 [INFO] Base - [id:561433133] Fetched 5400 reviews (5400 fetched in total)\n",
      "2022-09-26 09:30:46,644 [INFO] Base - [id:561433133] Fetched 5660 reviews (5660 fetched in total)\n",
      "2022-09-26 09:30:52,029 [INFO] Base - [id:561433133] Fetched 5860 reviews (5860 fetched in total)\n",
      "2022-09-26 09:30:57,541 [INFO] Base - [id:561433133] Fetched 6180 reviews (6180 fetched in total)\n",
      "2022-09-26 09:31:02,890 [INFO] Base - [id:561433133] Fetched 6300 reviews (6300 fetched in total)\n",
      "2022-09-26 09:31:08,221 [INFO] Base - [id:561433133] Fetched 6620 reviews (6620 fetched in total)\n",
      "2022-09-26 09:31:13,880 [INFO] Base - [id:561433133] Fetched 6900 reviews (6900 fetched in total)\n",
      "2022-09-26 09:31:19,272 [INFO] Base - [id:561433133] Fetched 7260 reviews (7260 fetched in total)\n",
      "2022-09-26 09:31:25,494 [INFO] Base - [id:561433133] Fetched 7600 reviews (7600 fetched in total)\n",
      "2022-09-26 09:31:26,392 [INFO] Base - [id:561433133] Fetched 7649 reviews (7649 fetched in total)\n"
     ]
    },
    {
     "name": "stdout",
     "output_type": "stream",
     "text": [
      "vcb: (7649, 6)\n"
     ]
    },
    {
     "name": "stderr",
     "output_type": "stream",
     "text": [
      "2022-09-26 09:31:57,272 [INFO] Base - Initialised: AppStore('vn', 'biz-mbbank', 1424005630)\n",
      "2022-09-26 09:31:57,272 [INFO] Base - Ready to fetch reviews from: https://apps.apple.com/vn/app/biz-mbbank/id1424005630\n",
      "2022-09-26 09:32:02,279 [INFO] Base - [id:1424005630] Fetched 300 reviews (300 fetched in total)\n",
      "2022-09-26 09:32:09,058 [INFO] Base - [id:1424005630] Fetched 600 reviews (600 fetched in total)\n",
      "2022-09-26 09:32:12,796 [INFO] Base - [id:1424005630] Fetched 828 reviews (828 fetched in total)\n"
     ]
    },
    {
     "name": "stdout",
     "output_type": "stream",
     "text": [
      "mb: (828, 7)\n"
     ]
    },
    {
     "name": "stderr",
     "output_type": "stream",
     "text": [
      "C:\\Users\\nhan.ngothanh1\\AppData\\Local\\Temp\\ipykernel_640\\2785085360.py:33: SettingWithCopyWarning: \n",
      "A value is trying to be set on a copy of a slice from a DataFrame\n",
      "\n",
      "See the caveats in the documentation: https://pandas.pydata.org/pandas-docs/stable/user_guide/indexing.html#returning-a-view-versus-a-copy\n",
      "  df_ios_used.rename(columns = {'userName':'username'}, inplace=True)\n",
      "C:\\Users\\nhan.ngothanh1\\AppData\\Local\\Temp\\ipykernel_640\\2785085360.py:36: SettingWithCopyWarning: \n",
      "A value is trying to be set on a copy of a slice from a DataFrame.\n",
      "Try using .loc[row_indexer,col_indexer] = value instead\n",
      "\n",
      "See the caveats in the documentation: https://pandas.pydata.org/pandas-docs/stable/user_guide/indexing.html#returning-a-view-versus-a-copy\n",
      "  df_ios_used['date'] = df_ios_used['date'].apply(lambda x: x.strftime(\"%Y-%m-%d %H:%M:%S\"))\n"
     ]
    },
    {
     "data": {
      "text/plain": [
       "datetime.datetime(2022, 9, 26, 9, 32, 43, 241109)"
      ]
     },
     "execution_count": 10,
     "metadata": {},
     "output_type": "execute_result"
    }
   ],
   "source": [
    "\n",
    "rw_ios_src_dict = {'vib1':['MyVIB','vn','949371011'],\n",
    "                   'vib2':['MyVIB 2.0','vn','1626624790'],\n",
    "                   'tcb':['Techcombank Mobile','vn','1548623362'],\n",
    "                   'tpb':['TPBank Mobile','vn','450464147'],\n",
    "                   'bid':['SmartBanking','vn','1061867449'],\n",
    "                   'vcb':['Vietcombank','vn','561433133'],\n",
    "                   'mb':['BIZ MBBANK','vn','1424005630']\n",
    "                  }\n",
    "\n",
    "#----------------------------------------------------------------------------------------------------------\n",
    "column = ['title','userName','isEdited','review','date','rating','developerResponse','bankapp']\n",
    "df_ios_rw = pd.DataFrame(columns = column)\n",
    "\n",
    "get_review_in = bank_array #rw_ios_src_dict.keys()\n",
    "\n",
    "for bankapp in get_review_in:\n",
    "    iosrw_df = get_rwdata_ios(rw_ios_src_dict, bankapp, save_path=TRAIN_ROOT)  \n",
    "    iosrw_df['bankapp'] = bankapp\n",
    "    df_ios_rw = pd.concat([df_ios_rw, iosrw_df])  \n",
    "    time.sleep(30)\n",
    "    \n",
    "today = date.today()\n",
    "df_ios_rw.reset_index(drop=True, inplace=True)\n",
    "df_ios_rw.to_csv(TRAIN_ROOT+'/1_iOSRaw_'+str(today)+'_nbank.csv', index=False)\n",
    "\n",
    "#----------------------------------------------------------------------------------------------------------\n",
    "df_ios_rw['month'] = pd.DatetimeIndex(df_ios_rw['date']).month\n",
    "df_ios_rw['year'] = pd.DatetimeIndex(df_ios_rw['date']).year\n",
    "df_ios_rw['m_y'] = df_ios_rw['month'].astype(str)+df_ios_rw['year'].astype(str)\n",
    "\n",
    "#JUST RAW\n",
    "df_ios_used = df_ios_rw[['userName','review','date','m_y','rating']]\n",
    "df_ios_used.rename(columns = {'userName':'username'}, inplace=True)\n",
    "\n",
    "# Convert timetamps to string\n",
    "df_ios_used['date'] = df_ios_used['date'].apply(lambda x: x.strftime(\"%Y-%m-%d %H:%M:%S\"))\n",
    "\n",
    "# Note the latest datetime of review API download to file\n",
    "file_name = TRAIN_ROOT+'/lastest_review_query.txt'\n",
    "with open(file_name, 'w') as file:\n",
    "    file.write(datetime.datetime.now().strftime(\"%d-%b-%Y (%H:%M:%S.%f)\"))   \n",
    "    \n",
    "with open(file_name, 'r') as file:\n",
    "    lastest_review_query = datetime.datetime.strptime(file.read(), \"%d-%b-%Y (%H:%M:%S.%f)\")\n",
    "    \n",
    "lastest_review_query"
   ]
  },
  {
   "cell_type": "markdown",
   "metadata": {},
   "source": [
    "**3) Combine Android and iOS data**"
   ]
  },
  {
   "cell_type": "code",
   "execution_count": 11,
   "metadata": {},
   "outputs": [
    {
     "name": "stdout",
     "output_type": "stream",
     "text": [
      "BEFORE: df_used.shape =  118171\n",
      "AFTER DUPLICATE PROCESSING: df_used.shape =  107538\n"
     ]
    }
   ],
   "source": [
    "df_used = pd.concat([df_android_used, df_ios_used])\n",
    "df_used['duplicate'] = df_used.duplicated(subset=['username', 'm_y', 'review'], keep='first')\n",
    "print('BEFORE: df_used.shape = ',df_used.shape[0])\n",
    "df_used = df_used[df_used['duplicate']==False] #remove duplicate\n",
    "df_used.reset_index(inplace=True, drop=True)\n",
    "print('AFTER DUPLICATE PROCESSING: df_used.shape = ',df_used.shape[0])\n",
    "# process for date column\n",
    "df_used['date'] = df_used['date'].apply(lambda x: ('20'+x) if (len(x)==17) else x ) # add '20' before datetime string for right format yyyy-mm-dd \n",
    "df_used['date'] = df_used['date'].apply(lambda x: datetime.datetime.strptime(x,'%Y-%m-%d %H:%M:%S'))\n",
    "\n",
    "df_used.to_csv(TRAIN_ROOT+'/2_dataApp_combine.csv',index=False,sep='\\t')\n"
   ]
  },
  {
   "cell_type": "markdown",
   "metadata": {},
   "source": [
    "#### Text Processing \n",
    "**1) Vietnamese - Typo correction**"
   ]
  },
  {
   "cell_type": "code",
   "execution_count": 12,
   "metadata": {},
   "outputs": [
    {
     "name": "stdout",
     "output_type": "stream",
     "text": [
      "(107537, 9)\n"
     ]
    },
    {
     "data": {
      "text/html": [
       "<div>\n",
       "<style scoped>\n",
       "    .dataframe tbody tr th:only-of-type {\n",
       "        vertical-align: middle;\n",
       "    }\n",
       "\n",
       "    .dataframe tbody tr th {\n",
       "        vertical-align: top;\n",
       "    }\n",
       "\n",
       "    .dataframe thead th {\n",
       "        text-align: right;\n",
       "    }\n",
       "</style>\n",
       "<table border=\"1\" class=\"dataframe\">\n",
       "  <thead>\n",
       "    <tr style=\"text-align: right;\">\n",
       "      <th></th>\n",
       "      <th>username</th>\n",
       "      <th>review</th>\n",
       "      <th>date</th>\n",
       "      <th>m_y</th>\n",
       "      <th>rating</th>\n",
       "      <th>duplicate</th>\n",
       "      <th>review_adj</th>\n",
       "      <th>ymdhms</th>\n",
       "      <th>negative_word</th>\n",
       "    </tr>\n",
       "  </thead>\n",
       "  <tbody>\n",
       "    <tr>\n",
       "      <th>0</th>\n",
       "      <td>Hoangkha Nguyen</td>\n",
       "      <td>Rát hây</td>\n",
       "      <td>2022-09-25 05:35:30</td>\n",
       "      <td>92022</td>\n",
       "      <td>5</td>\n",
       "      <td>False</td>\n",
       "      <td>rát hây</td>\n",
       "      <td>2022_09_25_05_35_30</td>\n",
       "      <td>0</td>\n",
       "    </tr>\n",
       "  </tbody>\n",
       "</table>\n",
       "</div>"
      ],
      "text/plain": [
       "          username   review                date    m_y rating  duplicate  \\\n",
       "0  Hoangkha Nguyen  Rát hây 2022-09-25 05:35:30  92022      5      False   \n",
       "\n",
       "  review_adj               ymdhms  negative_word  \n",
       "0    rát hây  2022_09_25_05_35_30              0  "
      ]
     },
     "execution_count": 12,
     "metadata": {},
     "output_type": "execute_result"
    }
   ],
   "source": [
    "# remove null review\n",
    "df_used = df_used[~(df_used['review'].isnull()|df_used['review'].isna())]\n",
    "\n",
    "# typo correction by looking up dict\n",
    "df_used['review_adj'] = df_used['review'].apply(lambda x: review_vietnamese_adj(x.lower()))\n",
    "df_used['ymdhms'] = pd.to_datetime(df_used['date']).dt.strftime(\"%Y_%m_%d_%H_%M_%S\")\n",
    "df_used.to_csv(TRAIN_ROOT+'/3_dataApp_typo_corrected_'+str(today)+'.csv',encoding='utf-16',index=False,sep='\\t')\n",
    "\n",
    "# Count Vietnamese negative and positive words in the sentence\n",
    "df_used['negative_word'] = df_used['review_adj'].apply(lambda x: review_vietnamese_match_wordlist(x, global_materials.negative_word))\n",
    "df_used['positive_word'] = df_used['review_adj'].apply(lambda x: review_vietnamese_match_wordlist(x, global_materials.positive_word))\n",
    "\n",
    "#df_used = pd.read_csv('df_used_vn_correct_bf_trans.csv',index_col=False,sep='\\t')\n",
    "print(df_used.shape)\n",
    "df_used.head(1)\n"
   ]
  },
  {
   "cell_type": "markdown",
   "metadata": {},
   "source": [
    "**2) Vietnamese to English translation**"
   ]
  },
  {
   "cell_type": "code",
   "execution_count": 13,
   "metadata": {},
   "outputs": [
    {
     "name": "stdout",
     "output_type": "stream",
     "text": [
      "Content: out length:35537, in length: 107537\n",
      "Content: out length:537, in length: 107537\n",
      "Content: out length:537, in length: 107537\n",
      "Content: out length:537, in length: 107537\n",
      "Content: out length:537, in length: 107537\n",
      "Content: out length:537, in length: 107537\n",
      "Content: out length:537, in length: 107537\n",
      "Content: out length:537, in length: 107537\n",
      "Content: out length:537, in length: 107537\n",
      "Content: out length:537, in length: 107537\n",
      "Content: out length:537, in length: 107537\n",
      "Content: out length:537, in length: 107537\n",
      "Content: out length:537, in length: 107537\n",
      "Content: out length:537, in length: 107537\n",
      "Content: out length:537, in length: 107537\n",
      "Content: out length:537, in length: 107537\n",
      "Content: out length:537, in length: 107537\n",
      "Content: out length:537, in length: 107537\n",
      "Content: out length:537, in length: 107537\n",
      "Content: out length:537, in length: 107537\n",
      "Content: out length:537, in length: 107537\n",
      "Content: out length:537, in length: 107537\n",
      "Content: out length:537, in length: 107537\n",
      "Content: out length:537, in length: 107537\n",
      "Content: out length:537, in length: 107537\n",
      "Content: out length:537, in length: 107537\n",
      "Content: out length:537, in length: 107537\n",
      "Content: out length:537, in length: 107537\n",
      "Content: out length:537, in length: 107537\n",
      "Content: out length:537, in length: 107537\n",
      "Content: out length:537, in length: 107537\n",
      "Content: out length:537, in length: 107537\n",
      "Content: out length:537, in length: 107537\n",
      "Content: out length:537, in length: 107537\n",
      "Content: out length:537, in length: 107537\n",
      "Content: out length:537, in length: 107537\n",
      "Content: out length:537, in length: 107537\n",
      "Content: out length:537, in length: 107537\n",
      "Content: out length:537, in length: 107537\n",
      "Content: out length:537, in length: 107537\n",
      "Content: out length:537, in length: 107537\n",
      "Content: out length:537, in length: 107537\n",
      "Content: out length:537, in length: 107537\n",
      "Content: out length:537, in length: 107537\n",
      "Content: out length:537, in length: 107537\n",
      "Content: out length:537, in length: 107537\n",
      "Content: out length:537, in length: 107537\n",
      "Content: out length:537, in length: 107537\n",
      "Content: out length:537, in length: 107537\n",
      "Content: out length:537, in length: 107537\n",
      "Content: out length:537, in length: 107537\n",
      "Content: out length:537, in length: 107537\n",
      "Content: out length:537, in length: 107537\n",
      "Content: out length:537, in length: 107537\n",
      "Content: out length:537, in length: 107537\n",
      "Content: out length:537, in length: 107537\n",
      "Content: out length:537, in length: 107537\n",
      "Content: out length:537, in length: 107537\n",
      "Content: out length:537, in length: 107537\n",
      "Content: out length:537, in length: 107537\n",
      "Content: out length:537, in length: 107537\n",
      "Content: out length:537, in length: 107537\n",
      "Content: out length:537, in length: 107537\n",
      "Content: out length:537, in length: 107537\n",
      "Content: out length:537, in length: 107537\n",
      "Content: out length:537, in length: 107537\n",
      "Content: out length:537, in length: 107537\n",
      "Content: out length:537, in length: 107537\n",
      "Content: out length:537, in length: 107537\n",
      "Content: out length:537, in length: 107537\n",
      "Content: out length:537, in length: 107537\n",
      "Content: out length:537, in length: 107537\n",
      "Content: out length:537, in length: 107537\n"
     ]
    }
   ],
   "source": [
    "# Run Google Translation\n",
    "filenameF = TRAIN_ROOT+'/4_dataApp_EN_'+str(today)+'.csv'\n",
    "\n",
    "response = False\n",
    "cur_i = 0\n",
    "#df_trans = pd.DataFrame()\n",
    "if not os.path.exists(filenameF):\n",
    "    while (response==False):\n",
    "        cur_i, response = google_translate(df_used,TRAIN_ROOT+'/translate_'+str(today), cur_i, 1000)\n",
    "        \n",
    "    df_train = pd.DataFrame()\n",
    "    for fl in os.listdir(TRAIN_ROOT+'/translate_'+str(today)): \n",
    "        df_temp = pd.read_csv(TRAIN_ROOT+'/translate_'+str(today)+'/'+fl, index_col=False, sep='\\t')\n",
    "        df_train = pd.concat([df_train,df_temp])\n",
    "    print(df_train.shape)\n",
    "    df_train.to_csv(filenameF, index=False, sep='\\t')\n",
    "    \n",
    "else:\n",
    "    print(f'{filenameF} is Existed! Please check if you want to retranslate.')\n",
    "#del df_used"
   ]
  },
  {
   "cell_type": "code",
   "execution_count": 4,
   "metadata": {},
   "outputs": [
    {
     "name": "stdout",
     "output_type": "stream",
     "text": [
      "(107537, 10)\n"
     ]
    }
   ],
   "source": [
    "# # Run Google Translation\n",
    "# filenameF = TRAIN_ROOT+'/4_dataApp_EN_'+str(today)+'.csv'\n",
    "# df_train = pd.DataFrame()\n",
    "# for fl in os.listdir(TRAIN_ROOT+'/translate_2022-09-26'): \n",
    "#     df_temp = pd.read_csv(TRAIN_ROOT+'/translate_2022-09-26'+'/'+fl, index_col=False, sep='\\t')\n",
    "#     df_train = pd.concat([df_train,df_temp])\n",
    "# print(df_train.shape)\n",
    "# df_train.to_csv(filenameF, index=False, sep='\\t')"
   ]
  },
  {
   "cell_type": "markdown",
   "metadata": {},
   "source": [
    "**3) English - Clean text**"
   ]
  },
  {
   "cell_type": "code",
   "execution_count": 6,
   "metadata": {},
   "outputs": [],
   "source": [
    "filenameF = TRAIN_ROOT+'/4_dataApp_EN_2022-09-27.csv'\n",
    "df_train = pd.read_csv(filenameF, index_col=False, sep='\\t')\n",
    "df_train = df_train[~(df_train['review_adj'].isnull()|df_train['review'].isna())]\n",
    "\n",
    "# Clean English \n",
    "df_train['positive_word'] = df_train['review_adj'].apply(lambda x: review_vietnamese_match_wordlist(x, global_materials.positive_word))\n",
    "df_train['negative_word'] = df_train['review_adj'].apply(lambda x: review_vietnamese_match_wordlist(x, global_materials.negative_word))\n",
    "df_train = review_english_clean(df_train)"
   ]
  },
  {
   "cell_type": "markdown",
   "metadata": {},
   "source": [
    "#### EMBEDDING METHODS"
   ]
  },
  {
   "cell_type": "markdown",
   "metadata": {},
   "source": [
    "**1) VADER**"
   ]
  },
  {
   "cell_type": "code",
   "execution_count": 15,
   "metadata": {},
   "outputs": [
    {
     "name": "stderr",
     "output_type": "stream",
     "text": [
      "[nltk_data] Downloading package vader_lexicon to\n",
      "[nltk_data]     C:\\Users\\nhan.ngothanh1\\AppData\\Roaming\\nltk_data...\n",
      "[nltk_data]   Package vader_lexicon is already up-to-date!\n"
     ]
    }
   ],
   "source": [
    "nltk.download('vader_lexicon')\n",
    "from nltk.sentiment.vader import SentimentIntensityAnalyzer\n",
    "\n",
    "sentiment = SentimentIntensityAnalyzer()\n",
    "#sentiment.polarity_scores('I love VIB')\n",
    "\n",
    "df_train['vader_pos']      = df_train['review_clean'].apply(lambda x: sentiment.polarity_scores(x)['pos'])\n",
    "df_train['vader_neg']      = df_train['review_clean'].apply(lambda x: sentiment.polarity_scores(x)['neg'])\n",
    "df_train['vader_neu']      = df_train['review_clean'].apply(lambda x: sentiment.polarity_scores(x)['neu'])\n",
    "df_train['vader_compound'] = df_train['review_clean'].apply(lambda x: sentiment.polarity_scores(x)['compound'])"
   ]
  },
  {
   "cell_type": "code",
   "execution_count": 16,
   "metadata": {},
   "outputs": [
    {
     "name": "stdout",
     "output_type": "stream",
     "text": [
      "(90415, 23)\n"
     ]
    }
   ],
   "source": [
    "# Labeling\n",
    "df_train['label_rating']  = df_train['rating'].apply(lambda x: 1 if x<=3 else 0)\n",
    "\n",
    "df_train['flag_posword']  = df_train['positive_word'].apply(lambda x: 1 if x>=1 else 0)\n",
    "df_train['flag_negword']  = df_train['negative_word'].apply(lambda x: 1 if x>=1 else 0)\n",
    "\n",
    "df_train['label_negword'] = np.where(df_train['flag_negword']>df_train['flag_posword'],1,0)\n",
    "df_train['label_vader']   = df_train['vader_compound'].apply(lambda x: 1 if x<-0.05 else 0)\n",
    "\n",
    "df_train['label_sum']     = df_train[['label_rating','label_negword','label_vader']].sum(axis=1)\n",
    "df_train['label']         = df_train['label_sum'].apply(lambda x: 1 if x>=2 else 0)\n",
    "\n",
    "print(df_train.shape)\n",
    "df_train[['review','review_adj','review_en','review_clean','flag_negword','flag_posword','label_rating','label_negword','label_vader','label_sum','label']].to_csv(TRAIN_ROOT+'/6_dataApp_lable_check.csv', encoding='utf-16', sep='\\t', index=False)"
   ]
  },
  {
   "cell_type": "code",
   "execution_count": 17,
   "metadata": {},
   "outputs": [
    {
     "data": {
      "text/plain": [
       "(90415, 23)"
      ]
     },
     "execution_count": 17,
     "metadata": {},
     "output_type": "execute_result"
    }
   ],
   "source": [
    "df_train.to_csv(TRAIN_ROOT+'/5_dataApp_EN_clean_vader.csv', index=False)\n",
    "df_train.shape"
   ]
  },
  {
   "cell_type": "code",
   "execution_count": 8,
   "metadata": {},
   "outputs": [
    {
     "data": {
      "text/plain": [
       "(96829, 26)"
      ]
     },
     "execution_count": 8,
     "metadata": {},
     "output_type": "execute_result"
    }
   ],
   "source": [
    "# concat VIB and nbank data\n",
    "df_train_vib = pd.read_csv(TRAIN_ROOT+'/5_dataApp_EN_clean_vader_vib.csv', index_col=False)\n",
    "df_train_vib['bank_flag'] = 'vib'\n",
    "#df_train_vib_test = df_train_vib[(df_train_vib.shape[0]-1000):df_train_vib.shape[0]]\n",
    "df_train = pd.read_csv(TRAIN_ROOT+'/5_dataApp_EN_clean_vader.csv', index_col=False)\n",
    "df_train['bank_flag'] = 'nbank'\n",
    "df_train = pd.concat([df_train,df_train_vib]).reset_index(drop=True)\n",
    "df_train.shape"
   ]
  },
  {
   "cell_type": "code",
   "execution_count": 9,
   "metadata": {},
   "outputs": [],
   "source": [
    "#[Add for probability]\n",
    "df_train['label_prob'] = df_train['label_sum']/3"
   ]
  },
  {
   "cell_type": "code",
   "execution_count": 10,
   "metadata": {},
   "outputs": [
    {
     "data": {
      "text/plain": [
       "array(['username', 'review', 'date', 'm_y', 'rating', 'duplicate',\n",
       "       'review_adj', 'ymdhms', 'negative_word', 'review_en',\n",
       "       'positive_word', 'review_clean', 'review_empty', 'vader_pos',\n",
       "       'vader_neg', 'vader_neu', 'vader_compound', 'label_rating',\n",
       "       'flag_posword', 'flag_negword', 'label_negword', 'label_vader',\n",
       "       'label_sum', 'label', 'bank_flag', 'label_negword_pre',\n",
       "       'label_prob'], dtype=object)"
      ]
     },
     "execution_count": 10,
     "metadata": {},
     "output_type": "execute_result"
    }
   ],
   "source": [
    "df_train.columns.values"
   ]
  },
  {
   "cell_type": "code",
   "execution_count": 11,
   "metadata": {},
   "outputs": [
    {
     "data": {
      "text/plain": [
       "nbank    90415\n",
       "vib       6414\n",
       "Name: bank_flag, dtype: int64"
      ]
     },
     "execution_count": 11,
     "metadata": {},
     "output_type": "execute_result"
    }
   ],
   "source": [
    "df_train['bank_flag'].value_counts()"
   ]
  },
  {
   "cell_type": "markdown",
   "metadata": {},
   "source": [
    "#### 2. TF-IDF Vertorizer"
   ]
  },
  {
   "cell_type": "code",
   "execution_count": 13,
   "metadata": {},
   "outputs": [
    {
     "data": {
      "text/html": [
       "<div>\n",
       "<style scoped>\n",
       "    .dataframe tbody tr th:only-of-type {\n",
       "        vertical-align: middle;\n",
       "    }\n",
       "\n",
       "    .dataframe tbody tr th {\n",
       "        vertical-align: top;\n",
       "    }\n",
       "\n",
       "    .dataframe thead th {\n",
       "        text-align: right;\n",
       "    }\n",
       "</style>\n",
       "<table border=\"1\" class=\"dataframe\">\n",
       "  <thead>\n",
       "    <tr style=\"text-align: right;\">\n",
       "      <th></th>\n",
       "      <th>able</th>\n",
       "      <th>accept</th>\n",
       "      <th>access</th>\n",
       "      <th>accord</th>\n",
       "      <th>account</th>\n",
       "      <th>account balance</th>\n",
       "      <th>account lock</th>\n",
       "      <th>account not</th>\n",
       "      <th>account number</th>\n",
       "      <th>account package</th>\n",
       "      <th>...</th>\n",
       "      <th>wrong</th>\n",
       "      <th>wrong not</th>\n",
       "      <th>wrong password</th>\n",
       "      <th>year</th>\n",
       "      <th>yesterday</th>\n",
       "      <th>yet</th>\n",
       "      <th>label_vader</th>\n",
       "      <th>label_negword</th>\n",
       "      <th>bank_flag</th>\n",
       "      <th>label</th>\n",
       "    </tr>\n",
       "  </thead>\n",
       "  <tbody>\n",
       "    <tr>\n",
       "      <th>0</th>\n",
       "      <td>0.0</td>\n",
       "      <td>0.0</td>\n",
       "      <td>0.0</td>\n",
       "      <td>0.0</td>\n",
       "      <td>0.000000</td>\n",
       "      <td>0.0</td>\n",
       "      <td>0.0</td>\n",
       "      <td>0.0</td>\n",
       "      <td>0.0</td>\n",
       "      <td>0.0</td>\n",
       "      <td>...</td>\n",
       "      <td>0.0</td>\n",
       "      <td>0.0</td>\n",
       "      <td>0.0</td>\n",
       "      <td>0.0</td>\n",
       "      <td>0.0</td>\n",
       "      <td>0.0</td>\n",
       "      <td>0</td>\n",
       "      <td>0</td>\n",
       "      <td>nbank</td>\n",
       "      <td>0.000000</td>\n",
       "    </tr>\n",
       "    <tr>\n",
       "      <th>1</th>\n",
       "      <td>0.0</td>\n",
       "      <td>0.0</td>\n",
       "      <td>0.0</td>\n",
       "      <td>0.0</td>\n",
       "      <td>0.210221</td>\n",
       "      <td>0.0</td>\n",
       "      <td>0.0</td>\n",
       "      <td>0.0</td>\n",
       "      <td>0.0</td>\n",
       "      <td>0.0</td>\n",
       "      <td>...</td>\n",
       "      <td>0.0</td>\n",
       "      <td>0.0</td>\n",
       "      <td>0.0</td>\n",
       "      <td>0.0</td>\n",
       "      <td>0.0</td>\n",
       "      <td>0.0</td>\n",
       "      <td>0</td>\n",
       "      <td>1</td>\n",
       "      <td>nbank</td>\n",
       "      <td>0.666667</td>\n",
       "    </tr>\n",
       "    <tr>\n",
       "      <th>2</th>\n",
       "      <td>0.0</td>\n",
       "      <td>0.0</td>\n",
       "      <td>0.0</td>\n",
       "      <td>0.0</td>\n",
       "      <td>0.000000</td>\n",
       "      <td>0.0</td>\n",
       "      <td>0.0</td>\n",
       "      <td>0.0</td>\n",
       "      <td>0.0</td>\n",
       "      <td>0.0</td>\n",
       "      <td>...</td>\n",
       "      <td>0.0</td>\n",
       "      <td>0.0</td>\n",
       "      <td>0.0</td>\n",
       "      <td>0.0</td>\n",
       "      <td>0.0</td>\n",
       "      <td>0.0</td>\n",
       "      <td>0</td>\n",
       "      <td>1</td>\n",
       "      <td>nbank</td>\n",
       "      <td>0.333333</td>\n",
       "    </tr>\n",
       "    <tr>\n",
       "      <th>3</th>\n",
       "      <td>0.0</td>\n",
       "      <td>0.0</td>\n",
       "      <td>0.0</td>\n",
       "      <td>0.0</td>\n",
       "      <td>0.000000</td>\n",
       "      <td>0.0</td>\n",
       "      <td>0.0</td>\n",
       "      <td>0.0</td>\n",
       "      <td>0.0</td>\n",
       "      <td>0.0</td>\n",
       "      <td>...</td>\n",
       "      <td>0.0</td>\n",
       "      <td>0.0</td>\n",
       "      <td>0.0</td>\n",
       "      <td>0.0</td>\n",
       "      <td>0.0</td>\n",
       "      <td>0.0</td>\n",
       "      <td>0</td>\n",
       "      <td>1</td>\n",
       "      <td>nbank</td>\n",
       "      <td>0.666667</td>\n",
       "    </tr>\n",
       "    <tr>\n",
       "      <th>4</th>\n",
       "      <td>0.0</td>\n",
       "      <td>0.0</td>\n",
       "      <td>0.0</td>\n",
       "      <td>0.0</td>\n",
       "      <td>0.000000</td>\n",
       "      <td>0.0</td>\n",
       "      <td>0.0</td>\n",
       "      <td>0.0</td>\n",
       "      <td>0.0</td>\n",
       "      <td>0.0</td>\n",
       "      <td>...</td>\n",
       "      <td>0.0</td>\n",
       "      <td>0.0</td>\n",
       "      <td>0.0</td>\n",
       "      <td>0.0</td>\n",
       "      <td>0.0</td>\n",
       "      <td>0.0</td>\n",
       "      <td>0</td>\n",
       "      <td>1</td>\n",
       "      <td>nbank</td>\n",
       "      <td>0.666667</td>\n",
       "    </tr>\n",
       "  </tbody>\n",
       "</table>\n",
       "<p>5 rows × 1004 columns</p>\n",
       "</div>"
      ],
      "text/plain": [
       "   able  accept  access  accord   account  account balance  account lock  \\\n",
       "0   0.0     0.0     0.0     0.0  0.000000              0.0           0.0   \n",
       "1   0.0     0.0     0.0     0.0  0.210221              0.0           0.0   \n",
       "2   0.0     0.0     0.0     0.0  0.000000              0.0           0.0   \n",
       "3   0.0     0.0     0.0     0.0  0.000000              0.0           0.0   \n",
       "4   0.0     0.0     0.0     0.0  0.000000              0.0           0.0   \n",
       "\n",
       "   account not  account number  account package  ...  wrong  wrong not  \\\n",
       "0          0.0             0.0              0.0  ...    0.0        0.0   \n",
       "1          0.0             0.0              0.0  ...    0.0        0.0   \n",
       "2          0.0             0.0              0.0  ...    0.0        0.0   \n",
       "3          0.0             0.0              0.0  ...    0.0        0.0   \n",
       "4          0.0             0.0              0.0  ...    0.0        0.0   \n",
       "\n",
       "   wrong password  year  yesterday  yet  label_vader  label_negword  \\\n",
       "0             0.0   0.0        0.0  0.0            0              0   \n",
       "1             0.0   0.0        0.0  0.0            0              1   \n",
       "2             0.0   0.0        0.0  0.0            0              1   \n",
       "3             0.0   0.0        0.0  0.0            0              1   \n",
       "4             0.0   0.0        0.0  0.0            0              1   \n",
       "\n",
       "   bank_flag     label  \n",
       "0      nbank  0.000000  \n",
       "1      nbank  0.666667  \n",
       "2      nbank  0.333333  \n",
       "3      nbank  0.666667  \n",
       "4      nbank  0.666667  \n",
       "\n",
       "[5 rows x 1004 columns]"
      ]
     },
     "execution_count": 13,
     "metadata": {},
     "output_type": "execute_result"
    }
   ],
   "source": [
    "from sklearn.feature_extraction.text import TfidfVectorizer\n",
    "\n",
    "tfidf_vectorizer = pickle.load(open('./model/TFIDF_VECTORIZER_app.pk','rb'))\n",
    "col_list = [i.lstrip() for i in tfidf_vectorizer.get_feature_names_out()]\n",
    "col_list = np.array(col_list)\n",
    "df_tfidf = pd.DataFrame(data=tfidf_vectorizer.transform(df_train['review_clean'].values).toarray(), columns=col_list)    \n",
    "\n",
    "#df_tfidf = pd.DataFrame(data=X.toarray(), columns = col_list)\n",
    "df_tfidf['label_vader'] = df_train['label_vader'].values\n",
    "df_tfidf['label_negword'] = df_train['label_negword'].values\n",
    "#df_tfidf['flag_posword'] = df_train['flag_posword'].values\n",
    "df_tfidf['bank_flag'] = df_train['bank_flag'].values\n",
    "#df_tfidf = df_tfidf[(df_tfidf['vader_compound']<-0.05)|(df_tfidf['vader_compound']>0.05)]\n",
    "#df_tfidf['vader_compound'] = df_tfidf['vader_compound'].apply(lambda x: 0 if x<-0.05 else 1 if x>0.05 else 0.5 )\n",
    "\n",
    "df_tfidf['label'] = df_train['label_prob'].values\n",
    "df_tfidf.head()\n"
   ]
  },
  {
   "cell_type": "code",
   "execution_count": 16,
   "metadata": {},
   "outputs": [
    {
     "data": {
      "text/plain": [
       "1004"
      ]
     },
     "execution_count": 16,
     "metadata": {},
     "output_type": "execute_result"
    }
   ],
   "source": [
    "len(df_tfidf.columns.values)"
   ]
  },
  {
   "cell_type": "markdown",
   "metadata": {},
   "source": [
    "#### MODELING \n",
    "**0) Train Test dataset**"
   ]
  },
  {
   "cell_type": "code",
   "execution_count": 18,
   "metadata": {},
   "outputs": [
    {
     "name": "stdout",
     "output_type": "stream",
     "text": [
      "1002\n"
     ]
    }
   ],
   "source": [
    "from sklearn.model_selection import train_test_split\n",
    "from sklearn.metrics import classification_report\n",
    "from sklearn.metrics import confusion_matrix\n",
    "\n",
    "FEA_COL = [col for col in df_tfidf.columns.values if col not in ['label', 'bank_flag']]\n",
    "print(len(FEA_COL))\n",
    "\n",
    "df_tfidf_b = df_tfidf[df_tfidf['bank_flag']=='nbank']\n",
    "X = df_tfidf_b[FEA_COL].values\n",
    "y = df_tfidf_b['label'].values\n",
    "X_train_nb, X_test_nb, y_train_nb, y_test_nb = train_test_split(X, y, test_size=0.2, stratify=y, random_state=42)\n",
    "\n",
    "df_tfidf_b = df_tfidf[df_tfidf['bank_flag']=='vib']\n",
    "X = df_tfidf_b[FEA_COL].values\n",
    "y = df_tfidf_b['label'].values\n",
    "X_train_vib, X_test_vib, y_train_vib, y_test_vib = train_test_split(X, y, test_size=0.2, stratify=y, random_state=42)\n",
    "\n",
    "X_train = np.vstack((X_train_nb,X_train_vib))#np.concatenate((X_train_nb,X_train_vib))\n",
    "y_train = np.concatenate((y_train_nb,y_train_vib))\n",
    "X_test = X_test_nb\n",
    "y_test = y_test_nb\n",
    "\n",
    "X = df_tfidf[FEA_COL].values\n",
    "y = df_tfidf['label'].values\n",
    "#X_test_vib\n",
    "#y_test_vib"
   ]
  },
  {
   "cell_type": "code",
   "execution_count": 47,
   "metadata": {},
   "outputs": [
    {
     "data": {
      "text/plain": [
       "array([0.        , 0.33333333, 0.66666667, 1.        ])"
      ]
     },
     "execution_count": 47,
     "metadata": {},
     "output_type": "execute_result"
    }
   ],
   "source": [
    "np.unique(y_train)"
   ]
  },
  {
   "cell_type": "code",
   "execution_count": 55,
   "metadata": {},
   "outputs": [
    {
     "data": {
      "text/plain": [
       "{0.0: 35393, 0.3333333333333333: 8432, 0.6666666666666666: 15125, 1.0: 18513}"
      ]
     },
     "execution_count": 55,
     "metadata": {},
     "output_type": "execute_result"
    }
   ],
   "source": [
    "unique, counts = np.unique(y_train, return_counts=True)\n",
    "dict(zip(unique, counts))"
   ]
  },
  {
   "cell_type": "code",
   "execution_count": 56,
   "metadata": {},
   "outputs": [
    {
     "data": {
      "text/plain": [
       "{0.0: 8240, 0.3333333333333333: 1935, 0.6666666666666666: 3559, 1.0: 4349}"
      ]
     },
     "execution_count": 56,
     "metadata": {},
     "output_type": "execute_result"
    }
   ],
   "source": [
    "unique, counts = np.unique(y_test, return_counts=True)\n",
    "dict(zip(unique, counts))"
   ]
  },
  {
   "cell_type": "code",
   "execution_count": 78,
   "metadata": {},
   "outputs": [
    {
     "data": {
      "text/plain": [
       "{0.0: 609, 0.3333333333333333: 173, 0.6666666666666666: 222, 1.0: 279}"
      ]
     },
     "execution_count": 78,
     "metadata": {},
     "output_type": "execute_result"
    }
   ],
   "source": [
    "unique, counts = np.unique(y_test_vib, return_counts=True)\n",
    "dict(zip(unique, counts))"
   ]
  },
  {
   "cell_type": "markdown",
   "metadata": {},
   "source": [
    "MLPRegression"
   ]
  },
  {
   "cell_type": "code",
   "execution_count": 68,
   "metadata": {},
   "outputs": [
    {
     "name": "stderr",
     "output_type": "stream",
     "text": [
      "c:\\Users\\nhan.ngothanh1\\Anaconda3\\lib\\site-packages\\sklearn\\neural_network\\_multilayer_perceptron.py:702: ConvergenceWarning: Stochastic Optimizer: Maximum iterations (100) reached and the optimization hasn't converged yet.\n",
      "  warnings.warn(\n"
     ]
    },
    {
     "data": {
      "text/plain": [
       "-0.7563174845999636"
      ]
     },
     "execution_count": 68,
     "metadata": {},
     "output_type": "execute_result"
    }
   ],
   "source": [
    "from sklearn.neural_network import MLPRegressor\n",
    "regr = MLPRegressor(hidden_layer_sizes=(100,50,1), \\\n",
    "                    solver='sgd', \\\n",
    "                    max_iter=100, \\\n",
    "                    activation='relu', \\\n",
    "                    random_state=1, \\\n",
    "                    learning_rate_init=0.0001,        \n",
    "                    batch_size=X_train.shape[0], \n",
    "                    momentum=True).fit(X_train, y_train)\n",
    "\n",
    "#regr.predict(X_test)\n",
    "\n",
    "regr.score(X_test, y_test)"
   ]
  },
  {
   "cell_type": "code",
   "execution_count": 66,
   "metadata": {},
   "outputs": [
    {
     "data": {
      "text/plain": [
       "array([-0.16513126, -0.16513126, -0.16513126, ..., -0.16513126,\n",
       "       -0.16513126, -0.16513126])"
      ]
     },
     "execution_count": 66,
     "metadata": {},
     "output_type": "execute_result"
    }
   ],
   "source": [
    "y_pred = regr.predict(X_test)\n",
    "y_pred"
   ]
  },
  {
   "cell_type": "code",
   "execution_count": 67,
   "metadata": {},
   "outputs": [
    {
     "data": {
      "text/plain": [
       "array([[<AxesSubplot:title={'center':'y_prob'}>]], dtype=object)"
      ]
     },
     "execution_count": 67,
     "metadata": {},
     "output_type": "execute_result"
    },
    {
     "data": {
      "image/png": "[encoded data removed]",
      "text/plain": [
       "<Figure size 1500x600 with 1 Axes>"
      ]
     },
     "metadata": {},
     "output_type": "display_data"
    }
   ],
   "source": [
    "df_y_pred = pd.DataFrame(data=y_pred, columns=['y_prob'])\n",
    "df_y_pred.hist(column=['y_prob'],bins=10, figsize=(15,6))"
   ]
  },
  {
   "cell_type": "markdown",
   "metadata": {},
   "source": [
    "#### SGDRegressor"
   ]
  },
  {
   "cell_type": "code",
   "execution_count": 19,
   "metadata": {},
   "outputs": [
    {
     "name": "stdout",
     "output_type": "stream",
     "text": [
      "              precision    recall  f1-score   support\n",
      "\n",
      "           0       1.00      0.95      0.97     10175\n",
      "           1       0.94      1.00      0.97      7908\n",
      "\n",
      "    accuracy                           0.97     18083\n",
      "   macro avg       0.97      0.97      0.97     18083\n",
      "weighted avg       0.97      0.97      0.97     18083\n",
      "\n",
      "              precision    recall  f1-score   support\n",
      "\n",
      "           0       1.00      0.93      0.96       782\n",
      "           1       0.90      1.00      0.95       501\n",
      "\n",
      "    accuracy                           0.96      1283\n",
      "   macro avg       0.95      0.96      0.95      1283\n",
      "weighted avg       0.96      0.96      0.96      1283\n",
      "\n"
     ]
    },
    {
     "data": {
      "text/plain": [
       "array([[726,  56],\n",
       "       [  1, 500]], dtype=int64)"
      ]
     },
     "execution_count": 19,
     "metadata": {},
     "output_type": "execute_result"
    }
   ],
   "source": [
    "from sklearn.linear_model import SGDRegressor\n",
    "model = SGDRegressor(max_iter=1000, tol=1e-3, early_stopping=True, validation_fraction=0.1, n_iter_no_change=20)\n",
    "model.fit(X_train, y_train)\n",
    "pickle.dump(model, open(\"./model/SENTIMENT_MODEL_sgdr_prob.sav\", \"wb\"))\n",
    "\n",
    "y_pred = model.predict(X_test)\n",
    "y_pred_adj = [1 if i>0.5 else 0  for i in y_pred]\n",
    "y_test_adj =  [1 if i>0.5 else 0  for i in y_test]\n",
    "print(classification_report(y_test_adj, y_pred_adj))\n",
    "confusion_matrix(y_test_adj, y_pred_adj)\n",
    "\n",
    "y_pred = model.predict(X_test_vib)\n",
    "y_pred_adj = [1 if i>0.5 else 0  for i in y_pred]\n",
    "y_test_vib_adj =  [1 if i>0.5 else 0  for i in y_test_vib]\n",
    "print(classification_report(y_test_vib_adj, y_pred_adj))\n",
    "confusion_matrix(y_test_vib_adj, y_pred_adj)"
   ]
  },
  {
   "cell_type": "code",
   "execution_count": 27,
   "metadata": {},
   "outputs": [
    {
     "data": {
      "text/plain": [
       "(array([387., 253.,  58.,   1.,  85., 201.,   0.,  26., 272.]),\n",
       " array([-0.08356   ,  0.04404211,  0.17164423,  0.29924634,  0.42684845,\n",
       "         0.55445056,  0.68205267,  0.80965478,  0.93725689,  1.064859  ]),\n",
       " <BarContainer object of 9 artists>)"
      ]
     },
     "execution_count": 27,
     "metadata": {},
     "output_type": "execute_result"
    },
    {
     "data": {
      "image/png": "[encoded data removed]",
      "text/plain": [
       "<Figure size 640x480 with 1 Axes>"
      ]
     },
     "metadata": {},
     "output_type": "display_data"
    }
   ],
   "source": [
    "bin_arr = np.linspace(min(y_pred), max(y_pred), num=10)\n",
    "plt.hist(y_pred, bins = bin_arr)"
   ]
  },
  {
   "cell_type": "markdown",
   "metadata": {},
   "source": [
    "**1) Multinormial Naive Bayes**"
   ]
  },
  {
   "cell_type": "code",
   "execution_count": 9,
   "metadata": {},
   "outputs": [
    {
     "name": "stdout",
     "output_type": "stream",
     "text": [
      "              precision    recall  f1-score   support\n",
      "\n",
      "           0       0.99      0.90      0.95     10175\n",
      "           1       0.89      0.99      0.94      7908\n",
      "\n",
      "    accuracy                           0.94     18083\n",
      "   macro avg       0.94      0.95      0.94     18083\n",
      "weighted avg       0.95      0.94      0.94     18083\n",
      "\n",
      "              precision    recall  f1-score   support\n",
      "\n",
      "           0       0.99      0.85      0.92       782\n",
      "           1       0.81      0.99      0.89       501\n",
      "\n",
      "    accuracy                           0.90      1283\n",
      "   macro avg       0.90      0.92      0.90      1283\n",
      "weighted avg       0.92      0.90      0.91      1283\n",
      "\n"
     ]
    }
   ],
   "source": [
    "from sklearn.naive_bayes import MultinomialNB\n",
    "\n",
    "clf = MultinomialNB()\n",
    "clf = clf.fit(X_train, y_train)\n",
    "\n",
    "# Result of model with tfidf\n",
    "\n",
    "y_pred = clf.predict(X_test)\n",
    "print(classification_report(y_test, y_pred))\n",
    "confusion_matrix(y_test, y_pred)\n",
    "\n",
    "# #---------------------------------------------------\n",
    "# # reuse old weight\n",
    "# clf = pickle.load(open('./model/SENTIMENT_MODEL_mnb_app.sav','rb'))\n",
    "# clf = clf.fit(X_train, y_train)\n",
    "# y_pred = clf.predict(X_test)\n",
    "# print(classification_report(y_test, y_pred))\n",
    "# confusion_matrix(y_test, y_pred)\n",
    "# #---------------------------------------------------\n",
    "\n",
    "# Test with data of VIB\n",
    "y_pred = clf.predict(X_test_vib)\n",
    "print(classification_report(y_test_vib, y_pred))\n",
    "confusion_matrix(y_test_vib, y_pred)\n",
    "\n",
    "# Fit with full data and save model\n",
    "clf = clf.fit(X, y)\n",
    "pickle.dump(clf, open(\"./model/SENTIMENT_MODEL_mnb_app_nbank.sav\", \"wb\"))"
   ]
  },
  {
   "cell_type": "markdown",
   "metadata": {},
   "source": [
    "Logistic Regression"
   ]
  },
  {
   "cell_type": "code",
   "execution_count": 69,
   "metadata": {},
   "outputs": [],
   "source": [
    "from sklearn.metrics import f1_score\n",
    "def logreg_select_threshold(X_train, y_train, X_test, y_test):\n",
    "    \n",
    "    train_f1_array = []\n",
    "    test_f1_array = []\n",
    "    threshold_array = []\n",
    "\n",
    "    logreg_clf = LogisticRegression(solver='lbfgs', C=1, class_weight={0:1, 1:1})\n",
    "    logreg_clf.fit(X_train, y_train)\n",
    "\n",
    "    for thresh in np.arange(0,1,0.05):\n",
    "        y_pred_train_reg = logreg_clf.predict_proba(X_train)[:,1]\n",
    "        y_pred_train_thres = (y_pred_train_reg > thresh).astype(int)\n",
    "\n",
    "        train_f1 = f1_score(y_train, y_pred_train_thres)\n",
    "\n",
    "        y_pred_test_reg = logreg_clf.predict_proba(X_test)[:,1]\n",
    "        y_pred_test_thres = (y_pred_test_reg > thresh).astype(int)\n",
    "\n",
    "        test_f1 = f1_score(y_test, y_pred_test_thres)\n",
    "\n",
    "        train_f1_array.append(train_f1)\n",
    "        test_f1_array.append(test_f1)\n",
    "        threshold_array.append(thresh)\n",
    "\n",
    "    threshold_logreg = {'train_f1': train_f1_array, 'test_f1': test_f1_array,'threshold': threshold_array}\n",
    "    threshold_logreg_df = pd.DataFrame.from_dict(threshold_logreg)\n",
    "\n",
    "    threshold_logreg_df['threshold']=threshold_logreg_df['threshold'].apply(lambda x: float('{:.2f}'.format(x)))\n",
    "    selected_threshold = threshold_logreg_df.loc[threshold_logreg_df[['test_f1']].idxmax(), 'threshold'].values[0]\n",
    "\n",
    "    plot_df = threshold_logreg_df.melt('threshold', var_name='metrics', value_name='values')\n",
    "    fig,ax = plt.subplots(figsize=(15,5))\n",
    "    sb.pointplot(x='threshold',y='values',hue='metrics', data=plot_df, ax=ax)\n",
    "\n",
    "    return logreg_clf, selected_threshold\n"
   ]
  },
  {
   "cell_type": "code",
   "execution_count": 70,
   "metadata": {},
   "outputs": [
    {
     "ename": "ValueError",
     "evalue": "Unknown label type: 'continuous'",
     "output_type": "error",
     "traceback": [
      "\u001b[1;31m---------------------------------------------------------------------------\u001b[0m",
      "\u001b[1;31mValueError\u001b[0m                                Traceback (most recent call last)",
      "Cell \u001b[1;32mIn [70], line 15\u001b[0m\n\u001b[0;32m      2\u001b[0m \u001b[38;5;28;01mfrom\u001b[39;00m \u001b[38;5;21;01msklearn\u001b[39;00m\u001b[38;5;21;01m.\u001b[39;00m\u001b[38;5;21;01mlinear_model\u001b[39;00m \u001b[38;5;28;01mimport\u001b[39;00m LogisticRegression\n\u001b[0;32m      3\u001b[0m \u001b[38;5;66;03m#clf = LogisticRegression(random_state=0).fit(X_train, y_train)\u001b[39;00m\n\u001b[0;32m      4\u001b[0m \u001b[38;5;66;03m# #clf.predict(X[:2, :])\u001b[39;00m\n\u001b[0;32m      5\u001b[0m \n\u001b[1;32m   (...)\u001b[0m\n\u001b[0;32m     13\u001b[0m \n\u001b[0;32m     14\u001b[0m \u001b[38;5;66;03m# run LR \u001b[39;00m\n\u001b[1;32m---> 15\u001b[0m logreg_clf, best_thres \u001b[38;5;241m=\u001b[39m logreg_select_threshold(X_train, y_train, X_test, y_test)\n\u001b[0;32m     16\u001b[0m \u001b[38;5;28mprint\u001b[39m(\u001b[38;5;124mf\u001b[39m\u001b[38;5;124m'\u001b[39m\u001b[38;5;124mbest_threshold = \u001b[39m\u001b[38;5;132;01m{\u001b[39;00mbest_thres\u001b[38;5;132;01m}\u001b[39;00m\u001b[38;5;124m'\u001b[39m)\n\u001b[0;32m     17\u001b[0m \u001b[38;5;66;03m# predict with loading model\u001b[39;00m\n",
      "Cell \u001b[1;32mIn [69], line 9\u001b[0m, in \u001b[0;36mlogreg_select_threshold\u001b[1;34m(X_train, y_train, X_test, y_test)\u001b[0m\n\u001b[0;32m      6\u001b[0m threshold_array \u001b[38;5;241m=\u001b[39m []\n\u001b[0;32m      8\u001b[0m logreg_clf \u001b[38;5;241m=\u001b[39m LogisticRegression(solver\u001b[38;5;241m=\u001b[39m\u001b[38;5;124m'\u001b[39m\u001b[38;5;124mlbfgs\u001b[39m\u001b[38;5;124m'\u001b[39m, C\u001b[38;5;241m=\u001b[39m\u001b[38;5;241m1\u001b[39m, class_weight\u001b[38;5;241m=\u001b[39m{\u001b[38;5;241m0\u001b[39m:\u001b[38;5;241m1\u001b[39m, \u001b[38;5;241m1\u001b[39m:\u001b[38;5;241m10\u001b[39m})\n\u001b[1;32m----> 9\u001b[0m \u001b[43mlogreg_clf\u001b[49m\u001b[38;5;241;43m.\u001b[39;49m\u001b[43mfit\u001b[49m\u001b[43m(\u001b[49m\u001b[43mX_train\u001b[49m\u001b[43m,\u001b[49m\u001b[43m \u001b[49m\u001b[43my_train\u001b[49m\u001b[43m)\u001b[49m\n\u001b[0;32m     11\u001b[0m \u001b[38;5;28;01mfor\u001b[39;00m thresh \u001b[38;5;129;01min\u001b[39;00m np\u001b[38;5;241m.\u001b[39marange(\u001b[38;5;241m0\u001b[39m,\u001b[38;5;241m1\u001b[39m,\u001b[38;5;241m0.05\u001b[39m):\n\u001b[0;32m     12\u001b[0m     y_pred_train_reg \u001b[38;5;241m=\u001b[39m logreg_clf\u001b[38;5;241m.\u001b[39mpredict_proba(X_train)[:,\u001b[38;5;241m1\u001b[39m]\n",
      "File \u001b[1;32mc:\\Users\\nhan.ngothanh1\\Anaconda3\\lib\\site-packages\\sklearn\\linear_model\\_logistic.py:1146\u001b[0m, in \u001b[0;36mLogisticRegression.fit\u001b[1;34m(self, X, y, sample_weight)\u001b[0m\n\u001b[0;32m   1136\u001b[0m     _dtype \u001b[39m=\u001b[39m [np\u001b[39m.\u001b[39mfloat64, np\u001b[39m.\u001b[39mfloat32]\n\u001b[0;32m   1138\u001b[0m X, y \u001b[39m=\u001b[39m \u001b[39mself\u001b[39m\u001b[39m.\u001b[39m_validate_data(\n\u001b[0;32m   1139\u001b[0m     X,\n\u001b[0;32m   1140\u001b[0m     y,\n\u001b[1;32m   (...)\u001b[0m\n\u001b[0;32m   1144\u001b[0m     accept_large_sparse\u001b[39m=\u001b[39msolver \u001b[39mnot\u001b[39;00m \u001b[39min\u001b[39;00m [\u001b[39m\"\u001b[39m\u001b[39mliblinear\u001b[39m\u001b[39m\"\u001b[39m, \u001b[39m\"\u001b[39m\u001b[39msag\u001b[39m\u001b[39m\"\u001b[39m, \u001b[39m\"\u001b[39m\u001b[39msaga\u001b[39m\u001b[39m\"\u001b[39m],\n\u001b[0;32m   1145\u001b[0m )\n\u001b[1;32m-> 1146\u001b[0m check_classification_targets(y)\n\u001b[0;32m   1147\u001b[0m \u001b[39mself\u001b[39m\u001b[39m.\u001b[39mclasses_ \u001b[39m=\u001b[39m np\u001b[39m.\u001b[39munique(y)\n\u001b[0;32m   1149\u001b[0m multi_class \u001b[39m=\u001b[39m _check_multi_class(\u001b[39mself\u001b[39m\u001b[39m.\u001b[39mmulti_class, solver, \u001b[39mlen\u001b[39m(\u001b[39mself\u001b[39m\u001b[39m.\u001b[39mclasses_))\n",
      "File \u001b[1;32mc:\\Users\\nhan.ngothanh1\\Anaconda3\\lib\\site-packages\\sklearn\\utils\\multiclass.py:200\u001b[0m, in \u001b[0;36mcheck_classification_targets\u001b[1;34m(y)\u001b[0m\n\u001b[0;32m    192\u001b[0m y_type \u001b[39m=\u001b[39m type_of_target(y, input_name\u001b[39m=\u001b[39m\u001b[39m\"\u001b[39m\u001b[39my\u001b[39m\u001b[39m\"\u001b[39m)\n\u001b[0;32m    193\u001b[0m \u001b[39mif\u001b[39;00m y_type \u001b[39mnot\u001b[39;00m \u001b[39min\u001b[39;00m [\n\u001b[0;32m    194\u001b[0m     \u001b[39m\"\u001b[39m\u001b[39mbinary\u001b[39m\u001b[39m\"\u001b[39m,\n\u001b[0;32m    195\u001b[0m     \u001b[39m\"\u001b[39m\u001b[39mmulticlass\u001b[39m\u001b[39m\"\u001b[39m,\n\u001b[1;32m   (...)\u001b[0m\n\u001b[0;32m    198\u001b[0m     \u001b[39m\"\u001b[39m\u001b[39mmultilabel-sequences\u001b[39m\u001b[39m\"\u001b[39m,\n\u001b[0;32m    199\u001b[0m ]:\n\u001b[1;32m--> 200\u001b[0m     \u001b[39mraise\u001b[39;00m \u001b[39mValueError\u001b[39;00m(\u001b[39m\"\u001b[39m\u001b[39mUnknown label type: \u001b[39m\u001b[39m%r\u001b[39;00m\u001b[39m\"\u001b[39m \u001b[39m%\u001b[39m y_type)\n",
      "\u001b[1;31mValueError\u001b[0m: Unknown label type: 'continuous'"
     ]
    }
   ],
   "source": [
    "import seaborn as sb\n",
    "from sklearn.linear_model import LogisticRegression\n",
    "#clf = LogisticRegression(random_state=0).fit(X_train, y_train)\n",
    "# #clf.predict(X[:2, :])\n",
    "\n",
    "# y_pred = clf.predict_proba(X_test)[:,1]\n",
    "# print(y_pred)\n",
    "# for thres in np.arange(0.1,1,0.1):\n",
    "#     print(\"thres\", thres)\n",
    "#     y_pred = [1 if (i>thres) else 0 for i in y_pred ]\n",
    "#     print(classification_report(y_test, y_pred))\n",
    "#     confusion_matrix(y_test, y_pred)\n",
    "\n",
    "# run LR \n",
    "logreg_clf, best_thres = logreg_select_threshold(X_train, y_train, X_test, y_test)\n",
    "print(f'best_threshold = {best_thres}')\n",
    "# predict with loading model\n",
    "y_pred_test_reg = logreg_clf.predict_proba(X_test)[:,1]\n",
    "y_pred_test_thres = (y_pred_test_reg > float(best_thres)).astype(int)\n",
    "\n",
    "print(classification_report(y_test, y_pred_test_thres))\n",
    "\n"
   ]
  },
  {
   "cell_type": "code",
   "execution_count": 24,
   "metadata": {},
   "outputs": [
    {
     "data": {
      "text/plain": [
       "0.8"
      ]
     },
     "execution_count": 24,
     "metadata": {},
     "output_type": "execute_result"
    }
   ],
   "source": [
    "best_thres"
   ]
  },
  {
   "cell_type": "markdown",
   "metadata": {},
   "source": [
    "**2) Random Forest**"
   ]
  },
  {
   "cell_type": "code",
   "execution_count": 40,
   "metadata": {},
   "outputs": [
    {
     "name": "stdout",
     "output_type": "stream",
     "text": [
      "              precision    recall  f1-score   support\n",
      "\n",
      "           0       0.93      0.95      0.94     10063\n",
      "           1       0.93      0.91      0.92      8020\n",
      "\n",
      "    accuracy                           0.93     18083\n",
      "   macro avg       0.93      0.93      0.93     18083\n",
      "weighted avg       0.93      0.93      0.93     18083\n",
      "\n",
      "              precision    recall  f1-score   support\n",
      "\n",
      "           0       0.95      0.92      0.93       781\n",
      "           1       0.88      0.92      0.90       502\n",
      "\n",
      "    accuracy                           0.92      1283\n",
      "   macro avg       0.91      0.92      0.92      1283\n",
      "weighted avg       0.92      0.92      0.92      1283\n",
      "\n"
     ]
    }
   ],
   "source": [
    "from sklearn.ensemble import RandomForestClassifier\n",
    "\n",
    "clf = RandomForestClassifier(max_depth=8, min_samples_split = 10, min_samples_leaf=2, max_features='sqrt',random_state=42)\n",
    "clf.fit(X_train, y_train)\n",
    "\n",
    "# Result of model with tfidf\n",
    "y_pred = clf.predict(X_test)\n",
    "print(classification_report(y_test, y_pred))\n",
    "confusion_matrix(y_test, y_pred)\n",
    "\n",
    "# #---------------------------------------------------\n",
    "# # reuse old weight\n",
    "# clf = pickle.load(open('./model/SENTIMENT_MODEL_rf_app.sav','rb'))\n",
    "# clf = clf.fit(X_train, y_train)\n",
    "# y_pred = clf.predict(X_test)\n",
    "# print(classification_report(y_test, y_pred))\n",
    "# confusion_matrix(y_test, y_pred)\n",
    "# #---------------------------------------------------\n",
    "\n",
    "# Test with data of VIB\n",
    "y_pred = clf.predict(X_test_vib)\n",
    "print(classification_report(y_test_vib, y_pred))\n",
    "confusion_matrix(y_test_vib, y_pred)\n",
    "\n",
    "# Fit with full data and save model\n",
    "clf = clf.fit(X, y)\n",
    "pickle.dump(clf, open(\"./model/SENTIMENT_MODEL_rf_app_nbank.sav\", \"wb\"))\n"
   ]
  },
  {
   "cell_type": "markdown",
   "metadata": {},
   "source": [
    "**3) SVC**"
   ]
  },
  {
   "cell_type": "code",
   "execution_count": 41,
   "metadata": {},
   "outputs": [
    {
     "name": "stdout",
     "output_type": "stream",
     "text": [
      "              precision    recall  f1-score   support\n",
      "\n",
      "           0       0.99      0.96      0.98     10063\n",
      "           1       0.95      0.99      0.97      8020\n",
      "\n",
      "    accuracy                           0.97     18083\n",
      "   macro avg       0.97      0.98      0.97     18083\n",
      "weighted avg       0.97      0.97      0.97     18083\n",
      "\n",
      "              precision    recall  f1-score   support\n",
      "\n",
      "           0       1.00      0.92      0.96       781\n",
      "           1       0.89      1.00      0.94       502\n",
      "\n",
      "    accuracy                           0.95      1283\n",
      "   macro avg       0.95      0.96      0.95      1283\n",
      "weighted avg       0.96      0.95      0.95      1283\n",
      "\n"
     ]
    }
   ],
   "source": [
    "from sklearn.svm import SVC\n",
    "\n",
    "clf = SVC(C=1, gamma=1, random_state=42)\n",
    "clf.fit(X_train, y_train)\n",
    "\n",
    "# Result of model with tfidf\n",
    "y_pred = clf.predict(X_test)\n",
    "print(classification_report(y_test, y_pred))\n",
    "confusion_matrix(y_test, y_pred)\n",
    "\n",
    "# #---------------------------------------------------\n",
    "# # reuse old weight\n",
    "# clf = pickle.load(open('./model/SENTIMENT_MODEL_svc_app.sav','rb'))\n",
    "# clf = clf.fit(X_train, y_train)\n",
    "# y_pred = clf.predict(X_test)\n",
    "# print(classification_report(y_test, y_pred))\n",
    "# confusion_matrix(y_test, y_pred)\n",
    "# #---------------------------------------------------\n",
    "\n",
    "# Test with data of VIB\n",
    "y_pred = clf.predict(X_test_vib)\n",
    "print(classification_report(y_test_vib, y_pred))\n",
    "confusion_matrix(y_test_vib, y_pred)\n",
    "\n",
    "# Fit with full data and save model\n",
    "clf = clf.fit(X, y)\n",
    "pickle.dump(clf, open(\"./model/SENTIMENT_MODEL_svc_app_nbank.sav\", \"wb\"))\n"
   ]
  },
  {
   "cell_type": "markdown",
   "metadata": {},
   "source": [
    "#### END ------------------------------------------------------------------------------------------------"
   ]
  },
  {
   "cell_type": "markdown",
   "metadata": {},
   "source": [
    "#### PREDICTION "
   ]
  },
  {
   "cell_type": "code",
   "execution_count": null,
   "metadata": {},
   "outputs": [
    {
     "name": "stdout",
     "output_type": "stream",
     "text": [
      "vib1: (4676, 10)\n",
      "vib2: (1673, 10)\n"
     ]
    }
   ],
   "source": [
    "# Load REVIEW OF VIB and CHECK SENTIMENT\n",
    "today = date.today()\n",
    "column = ['reviewId','userName','userImage','content','score','thumbsUpCount','reviewCreatedVersion','at','replyContent','repliedAt','bankapp']\n",
    "df_android_rw_pred = pd.DataFrame(columns = column)\n",
    "\n",
    "for bank_name in ['vib1','vib2']:\n",
    "    Andrw_df = get_rwdata_android(rw_android_src_dict, bank_name)   \n",
    "    Andrw_df['bankapp'] = bank_name\n",
    "    df_android_rw_pred = pd.concat([df_android_rw_pred, Andrw_df])\n",
    "    time.sleep(30)\n",
    "    \n",
    "df_android_rw_pred.reset_index(drop=True, inplace=True)\n",
    "\n",
    "reviews = df_android_rw_pred['content'].values"
   ]
  },
  {
   "cell_type": "code",
   "execution_count": null,
   "metadata": {},
   "outputs": [],
   "source": [
    "reviews = df_android_rw_pred['content'].values\n",
    "reviews = reviews[100:130] "
   ]
  },
  {
   "cell_type": "code",
   "execution_count": null,
   "metadata": {},
   "outputs": [
    {
     "name": "stdout",
     "output_type": "stream",
     "text": [
      "Tôi thấy app của VIB cũng được Xài cũng okay nói chung ổn\n",
      "dịch vụ chán lỗi hoài\n",
      "cũng tạm ạ hôm được hôm không\n",
      "có cải thiện đó chạy mượt hơn\n",
      "hài lòng với dịch vụ ở đây\n",
      "không thấy gì để chê với phí của vib\n",
      "tệ quá trời\n",
      "nhân viên chậm lắm\n",
      "hỗ trợ lâu không hài lòng\n",
      "càng nhiều kỷ niệm thì chia tay càng đau đớn\n",
      "tiếc cho họ nhìn mặt có nét phu thê quá trời\n",
      "tao còn mới thấy page nào đó bê cả câu bà của chúng tôi luôn cơ đấy\n",
      "chúng đã sai khi năm xưa mỉa mai chị đấy\n",
      "hóa ra năm xưa em đã trách lầm chị rồi\n",
      "bỏ tiền tỷ đầu tư này nọ xong giờ làm xấu mặt\n",
      "0      I think vib's app is also okay to use in general\n",
      "1                                     service is boring\n",
      "2                                          Good day too\n",
      "3             There is an improvement, it runs smoother\n",
      "4                       Satisfied with the service here\n",
      "5     I don't see anything to complain about with vi...\n",
      "6                                                so bad\n",
      "7                                       very slow staff\n",
      "8                              unsatisfied long support\n",
      "9        The more memories, the more painful parting is\n",
      "10    I'm sorry that they have such a fiancé look on...\n",
      "11    I just saw a page with our grandmother's sentence\n",
      "12     they were wrong when they mocked you in the past\n",
      "13          Turns out I was wrong about you in the past\n",
      "14    After spending billions of money on this and t...\n",
      "Name: review_en, dtype: object\n",
      "[10] {} think vib's okay use general\n",
      "[10] {} service boring\n",
      "[10] {} good day\n",
      "[10] {} improvement run smoother\n",
      "[10] {} satisfied service\n",
      "[10] {} don't see anything complain vib's fee\n",
      "[10] {} bad\n",
      "[10] {} slow staff\n",
      "[10] {} unsatisfied long support\n",
      "[10] {} memory painful part\n",
      "[10] {} i'm sorry fiancé look face\n",
      "[10] {} saw page grandmother's sentence\n",
      "[10] {} wrong mock past\n",
      "[10] {} turn wrong past\n",
      "[10] {} spending billion money embarrass\n",
      "0              think vib's okay use general\n",
      "1                            service boring\n",
      "2                                  good day\n",
      "3                  improvement run smoother\n",
      "4                         satisfied service\n",
      "5     don't see anything complain vib's fee\n",
      "6                                       bad\n",
      "7                                slow staff\n",
      "8                  unsatisfied long support\n",
      "9                       memory painful part\n",
      "10               i'm sorry fiancé look face\n",
      "11          saw page grandmother's sentence\n",
      "12                          wrong mock past\n",
      "13                          turn wrong past\n",
      "14         spending billion money embarrass\n",
      "Name: review_clean, dtype: object\n",
      "0                think vib okay use general\n",
      "1                            service boring\n",
      "2                                  good day\n",
      "3                  improvement run smoother\n",
      "4                         satisfied service\n",
      "5      do not see anything complain vib fee\n",
      "6                                       bad\n",
      "7                                slow staff\n",
      "8                  unsatisfied long support\n",
      "9                       memory painful part\n",
      "10             i am  sorry fiancé look face\n",
      "11            saw page grandmother sentence\n",
      "12                          wrong mock past\n",
      "13                          turn wrong past\n",
      "14         spending billion money embarrass\n",
      "Name: review_clean, dtype: object\n",
      "0               think okay use general\n",
      "1                       service boring\n",
      "2                             good day\n",
      "3             improvement run smoother\n",
      "4                    satisfied service\n",
      "5     do not see anything complain fee\n",
      "6                                  bad\n",
      "7                           slow staff\n",
      "8             unsatisfied long support\n",
      "9                  memory painful part\n",
      "10         i am sorry fiancé look face\n",
      "11       saw page grandmother sentence\n",
      "12                     wrong mock past\n",
      "13                     turn wrong past\n",
      "14    spending billion money embarrass\n",
      "Name: review_clean, dtype: object\n"
     ]
    },
    {
     "data": {
      "text/html": [
       "<div>\n",
       "<style scoped>\n",
       "    .dataframe tbody tr th:only-of-type {\n",
       "        vertical-align: middle;\n",
       "    }\n",
       "\n",
       "    .dataframe tbody tr th {\n",
       "        vertical-align: top;\n",
       "    }\n",
       "\n",
       "    .dataframe thead th {\n",
       "        text-align: right;\n",
       "    }\n",
       "</style>\n",
       "<table border=\"1\" class=\"dataframe\">\n",
       "  <thead>\n",
       "    <tr style=\"text-align: right;\">\n",
       "      <th></th>\n",
       "      <th>review</th>\n",
       "      <th>review_en</th>\n",
       "      <th>review_clean</th>\n",
       "      <th>vader_compound</th>\n",
       "      <th>sentiment</th>\n",
       "    </tr>\n",
       "  </thead>\n",
       "  <tbody>\n",
       "    <tr>\n",
       "      <th>0</th>\n",
       "      <td>Tôi thấy app của VIB cũng được. Xài cũng ok, n...</td>\n",
       "      <td>I think vib's app is also okay to use in general</td>\n",
       "      <td>think okay use general</td>\n",
       "      <td>1</td>\n",
       "      <td>0</td>\n",
       "    </tr>\n",
       "    <tr>\n",
       "      <th>1</th>\n",
       "      <td>dịch vụ chán, lỗi hoài</td>\n",
       "      <td>service is boring</td>\n",
       "      <td>service boring</td>\n",
       "      <td>0</td>\n",
       "      <td>1</td>\n",
       "    </tr>\n",
       "    <tr>\n",
       "      <th>2</th>\n",
       "      <td>cũng tạm ah, hôm được hôm không</td>\n",
       "      <td>Good day too</td>\n",
       "      <td>good day</td>\n",
       "      <td>1</td>\n",
       "      <td>1</td>\n",
       "    </tr>\n",
       "    <tr>\n",
       "      <th>3</th>\n",
       "      <td>có cải thiện đó, chạy mượt hơn</td>\n",
       "      <td>There is an improvement, it runs smoother</td>\n",
       "      <td>improvement run smoother</td>\n",
       "      <td>1</td>\n",
       "      <td>0</td>\n",
       "    </tr>\n",
       "    <tr>\n",
       "      <th>4</th>\n",
       "      <td>hài lòng với dịch vụ ở đây</td>\n",
       "      <td>Satisfied with the service here</td>\n",
       "      <td>satisfied service</td>\n",
       "      <td>1</td>\n",
       "      <td>0</td>\n",
       "    </tr>\n",
       "    <tr>\n",
       "      <th>5</th>\n",
       "      <td>không thấy gì để chê với phí của vib</td>\n",
       "      <td>I don't see anything to complain about with vi...</td>\n",
       "      <td>do not see anything complain fee</td>\n",
       "      <td>1</td>\n",
       "      <td>1</td>\n",
       "    </tr>\n",
       "    <tr>\n",
       "      <th>6</th>\n",
       "      <td>tệ quá trời</td>\n",
       "      <td>so bad</td>\n",
       "      <td>bad</td>\n",
       "      <td>0</td>\n",
       "      <td>1</td>\n",
       "    </tr>\n",
       "    <tr>\n",
       "      <th>7</th>\n",
       "      <td>nhân viên chậm lắm</td>\n",
       "      <td>very slow staff</td>\n",
       "      <td>slow staff</td>\n",
       "      <td>0</td>\n",
       "      <td>1</td>\n",
       "    </tr>\n",
       "    <tr>\n",
       "      <th>8</th>\n",
       "      <td>hỗ trợ lâu không hài lòng</td>\n",
       "      <td>unsatisfied long support</td>\n",
       "      <td>unsatisfied long support</td>\n",
       "      <td>0</td>\n",
       "      <td>1</td>\n",
       "    </tr>\n",
       "    <tr>\n",
       "      <th>9</th>\n",
       "      <td>càng nhiều kỷ niệm thì chia tay càng đau đớn</td>\n",
       "      <td>The more memories, the more painful parting is</td>\n",
       "      <td>memory painful part</td>\n",
       "      <td>0</td>\n",
       "      <td>1</td>\n",
       "    </tr>\n",
       "    <tr>\n",
       "      <th>10</th>\n",
       "      <td>tiếc cho họ nhìn mặt có nét phu thê quá trời</td>\n",
       "      <td>I'm sorry that they have such a fiancé look on...</td>\n",
       "      <td>i am sorry fiancé look face</td>\n",
       "      <td>0</td>\n",
       "      <td>1</td>\n",
       "    </tr>\n",
       "    <tr>\n",
       "      <th>11</th>\n",
       "      <td>tao còn mới thấy page nào đó bê cả câu bà của ...</td>\n",
       "      <td>I just saw a page with our grandmother's sentence</td>\n",
       "      <td>saw page grandmother sentence</td>\n",
       "      <td>1</td>\n",
       "      <td>0</td>\n",
       "    </tr>\n",
       "    <tr>\n",
       "      <th>12</th>\n",
       "      <td>chúng đã sai khi năm xưa mỉa mai chị đấy</td>\n",
       "      <td>they were wrong when they mocked you in the past</td>\n",
       "      <td>wrong mock past</td>\n",
       "      <td>0</td>\n",
       "      <td>1</td>\n",
       "    </tr>\n",
       "    <tr>\n",
       "      <th>13</th>\n",
       "      <td>hóa ra năm xưa em đã trách lầm chị rồi</td>\n",
       "      <td>Turns out I was wrong about you in the past</td>\n",
       "      <td>turn wrong past</td>\n",
       "      <td>0</td>\n",
       "      <td>1</td>\n",
       "    </tr>\n",
       "    <tr>\n",
       "      <th>14</th>\n",
       "      <td>bỏ tiền tỷ đầu tư này nọ xong giờ làm xấu mặt</td>\n",
       "      <td>After spending billions of money on this and t...</td>\n",
       "      <td>spending billion money embarrass</td>\n",
       "      <td>0</td>\n",
       "      <td>1</td>\n",
       "    </tr>\n",
       "  </tbody>\n",
       "</table>\n",
       "</div>"
      ],
      "text/plain": [
       "                                               review  \\\n",
       "0   Tôi thấy app của VIB cũng được. Xài cũng ok, n...   \n",
       "1                              dịch vụ chán, lỗi hoài   \n",
       "2                     cũng tạm ah, hôm được hôm không   \n",
       "3                      có cải thiện đó, chạy mượt hơn   \n",
       "4                          hài lòng với dịch vụ ở đây   \n",
       "5                không thấy gì để chê với phí của vib   \n",
       "6                                         tệ quá trời   \n",
       "7                                  nhân viên chậm lắm   \n",
       "8                           hỗ trợ lâu không hài lòng   \n",
       "9        càng nhiều kỷ niệm thì chia tay càng đau đớn   \n",
       "10       tiếc cho họ nhìn mặt có nét phu thê quá trời   \n",
       "11  tao còn mới thấy page nào đó bê cả câu bà của ...   \n",
       "12           chúng đã sai khi năm xưa mỉa mai chị đấy   \n",
       "13             hóa ra năm xưa em đã trách lầm chị rồi   \n",
       "14      bỏ tiền tỷ đầu tư này nọ xong giờ làm xấu mặt   \n",
       "\n",
       "                                            review_en  \\\n",
       "0    I think vib's app is also okay to use in general   \n",
       "1                                   service is boring   \n",
       "2                                        Good day too   \n",
       "3           There is an improvement, it runs smoother   \n",
       "4                     Satisfied with the service here   \n",
       "5   I don't see anything to complain about with vi...   \n",
       "6                                              so bad   \n",
       "7                                     very slow staff   \n",
       "8                            unsatisfied long support   \n",
       "9      The more memories, the more painful parting is   \n",
       "10  I'm sorry that they have such a fiancé look on...   \n",
       "11  I just saw a page with our grandmother's sentence   \n",
       "12   they were wrong when they mocked you in the past   \n",
       "13        Turns out I was wrong about you in the past   \n",
       "14  After spending billions of money on this and t...   \n",
       "\n",
       "                        review_clean  vader_compound  sentiment  \n",
       "0             think okay use general               1          0  \n",
       "1                     service boring               0          1  \n",
       "2                           good day               1          1  \n",
       "3           improvement run smoother               1          0  \n",
       "4                  satisfied service               1          0  \n",
       "5   do not see anything complain fee               1          1  \n",
       "6                                bad               0          1  \n",
       "7                         slow staff               0          1  \n",
       "8           unsatisfied long support               0          1  \n",
       "9                memory painful part               0          1  \n",
       "10       i am sorry fiancé look face               0          1  \n",
       "11     saw page grandmother sentence               1          0  \n",
       "12                   wrong mock past               0          1  \n",
       "13                   turn wrong past               0          1  \n",
       "14  spending billion money embarrass               0          1  "
      ]
     },
     "execution_count": 64,
     "metadata": {},
     "output_type": "execute_result"
    }
   ],
   "source": [
    "reviews = ['Tôi thấy app của VIB cũng được. Xài cũng ok, nói chung ổn.',\n",
    "           'dịch vụ chán, lỗi hoài',\n",
    "           'cũng tạm ah, hôm được hôm không',\n",
    "           'có cải thiện đó, chạy mượt hơn',\n",
    "           'hài lòng với dịch vụ ở đây',\n",
    "           'không thấy gì để chê với phí của vib',\n",
    "           'tệ quá trời',\n",
    "           'nhân viên chậm lắm',\n",
    "           'hỗ trợ lâu không hài lòng',\n",
    "           'càng nhiều kỷ niệm thì chia tay càng đau đớn',\n",
    "           'tiếc cho họ nhìn mặt có nét phu thê quá trời',\n",
    "           'tao còn mới thấy page nào đó bê cả câu bà của chúng tôi luôn cơ đấy',\n",
    "           'chúng đã sai khi năm xưa mỉa mai chị đấy',\n",
    "           'hóa ra năm xưa em đã trách lầm chị rồi',\n",
    "           'bỏ tiền tỷ đầu tư này nọ xong giờ làm xấu mặt']\n",
    "\n",
    "#reviews = ['hỗ trợ lâu không hài lòng']\n",
    "\n",
    "df_pred = pd.DataFrame(data=reviews, columns=['review'])\n",
    "# Vietnamese processing\n",
    "df_pred['review_adj'] = df_pred['review'].apply(lambda x: review_vietnamese_adj(x).lower())\n",
    "\n",
    "df_pred['negative_word'] = df_pred['review_adj'].apply(lambda x: review_vietnamese_match_negative_word(x))\n",
    "df_pred['label_negword'] = df_pred['negative_word'].apply(lambda x: 1 if x>0 else 0)\n",
    "\n",
    "# English translation\n",
    "df_pred['review_en'] = df_pred['review_adj'].apply(lambda x: GoogleTranslator(source = 'vi', target = 'en').translate(x))\n",
    "if 'username' not in df_pred.columns.values:\n",
    "    df_pred['username'] = np.zeros(df_pred.shape[0])\n",
    "    \n",
    "df_pred = review_english_clean(df_pred)\n",
    "\n",
    "\n",
    "# # English text clean\n",
    "# df_pred['rw_english_norm'] = df_pred['review_en'].apply(lambda x: normalize(x))\n",
    "# df_pred['review_clean'] = df_pred['rw_english_norm'].apply(lambda x: clean_text(x))\n",
    "\n",
    "# if (len(message) == 0):\n",
    "#     print('Message is Empty after processing. Can not predict sentiment :)')\n",
    "#     sys.exit()\n",
    "df_pred['vader_compound'] = df_pred['review_clean'].apply(lambda x: sentiment.polarity_scores(x)['compound'])\n",
    "#df_pred['vader_compound'] = df_pred['vader_compound'].apply(lambda x: 0 if x<-0.05 else 1 if x>0.05 else 0.5 )\n",
    "df_pred['vader_compound'] = df_pred['vader_compound'].apply(lambda x: 0 if x<0.05 else 1)\n",
    "\n",
    "tfidf_vectorizer = pickle.load(open('./trained_model/TFIDF_VECTORIZER_app.pk','rb'))\n",
    "#tfidf_vectorizer.get_feature_names_out()\n",
    "\n",
    "df_tfidfx = pd.DataFrame(data=tfidf_vectorizer.transform(df_pred['review_clean'].values).toarray(), columns=col_list)\n",
    "df_tfidfx['vader_compound'] = df_pred['vader_compound'].values\n",
    "df_tfidfx['label_negword'] = df_pred['label_negword'].values\n",
    "#df_pred = pd.concat([df_pred, df_tfidfx],axis=1,ignore_index=True)\n",
    "\n",
    "# Load model\n",
    "sentiment_MODEL = pickle.load(open('./trained_model/SENTIMENT_MODEL_TFIDF_app.sav','rb'))\n",
    "\n",
    "y_pred = sentiment_MODEL.predict(df_tfidfx[FEA_COL].values)\n",
    "df_pred['sentiment'] = y_pred\n",
    "df_pred[['review','review_en','review_clean','vader_compound','sentiment']]\n",
    "# check MODEL Trained with [TF-IDF, VADER_COMPOUND] and VADER MODEL --> MIX RESULT\n",
    "# RESULT: NOT BETTER\n",
    "\n",
    "# df_pred['tfidf_sentiment'] = y_pred\n",
    "\n",
    "# df_pred['vader_sentiment'] = df_pred['vader_compound'].apply(lambda x: 0 if ((x-1)<-0.05) else 1)\n",
    "# df_pred['sentiment_mix'] = np.where(df_pred['vader_sentiment'] == 0, 0, df_pred['tfidf_sentiment']) \n",
    "# df_pred[['review_en','review_clean','vader_compound','tfidf_sentiment','vader_sentiment','sentiment_mix']]\n",
    "\n",
    "# Result of model with mix model\n",
    "\n",
    "\n",
    "# print(df_pred)\n",
    "# sys.exit()"
   ]
  },
  {
   "cell_type": "code",
   "execution_count": null,
   "metadata": {},
   "outputs": [],
   "source": [
    "df_pred.to_csv('CURRENT_REVIEW_FILE.csv', index=False, sep='\\t')"
   ]
  },
  {
   "cell_type": "code",
   "execution_count": null,
   "metadata": {},
   "outputs": [
    {
     "data": {
      "text/html": [
       "<div>\n",
       "<style scoped>\n",
       "    .dataframe tbody tr th:only-of-type {\n",
       "        vertical-align: middle;\n",
       "    }\n",
       "\n",
       "    .dataframe tbody tr th {\n",
       "        vertical-align: top;\n",
       "    }\n",
       "\n",
       "    .dataframe thead th {\n",
       "        text-align: right;\n",
       "    }\n",
       "</style>\n",
       "<table border=\"1\" class=\"dataframe\">\n",
       "  <thead>\n",
       "    <tr style=\"text-align: right;\">\n",
       "      <th></th>\n",
       "      <th>review</th>\n",
       "      <th>review_en</th>\n",
       "      <th>review_clean</th>\n",
       "      <th>vader_compound</th>\n",
       "      <th>sentiment</th>\n",
       "    </tr>\n",
       "  </thead>\n",
       "  <tbody>\n",
       "    <tr>\n",
       "      <th>0</th>\n",
       "      <td>Tôi thấy app của VIB cũng được. Xài cũng ok, n...</td>\n",
       "      <td>I see vib's app is also ok to use in general</td>\n",
       "      <td>see use general</td>\n",
       "      <td>0</td>\n",
       "      <td>1</td>\n",
       "    </tr>\n",
       "    <tr>\n",
       "      <th>1</th>\n",
       "      <td>dịch vụ chán, lỗi hoài</td>\n",
       "      <td>boring service forever</td>\n",
       "      <td>bore service forever</td>\n",
       "      <td>0</td>\n",
       "      <td>0</td>\n",
       "    </tr>\n",
       "    <tr>\n",
       "      <th>2</th>\n",
       "      <td>cũng tạm ah, hôm được hôm không</td>\n",
       "      <td>Good day too</td>\n",
       "      <td>good day</td>\n",
       "      <td>1</td>\n",
       "      <td>1</td>\n",
       "    </tr>\n",
       "    <tr>\n",
       "      <th>3</th>\n",
       "      <td>có cải thiện đó, chạy mượt hơn</td>\n",
       "      <td>There is an improvement, it runs smoother</td>\n",
       "      <td>improvement run smoother</td>\n",
       "      <td>1</td>\n",
       "      <td>1</td>\n",
       "    </tr>\n",
       "    <tr>\n",
       "      <th>4</th>\n",
       "      <td>hài lòng với dịch vụ ở đây</td>\n",
       "      <td>Satisfied with the service here</td>\n",
       "      <td>satisfied service</td>\n",
       "      <td>1</td>\n",
       "      <td>1</td>\n",
       "    </tr>\n",
       "    <tr>\n",
       "      <th>5</th>\n",
       "      <td>không thấy gì để chê với phí của vib</td>\n",
       "      <td>I don't see anything to complain about with vi...</td>\n",
       "      <td>do not see anything complain fee</td>\n",
       "      <td>1</td>\n",
       "      <td>0</td>\n",
       "    </tr>\n",
       "    <tr>\n",
       "      <th>6</th>\n",
       "      <td>tệ quá trời</td>\n",
       "      <td>so bad</td>\n",
       "      <td>bad</td>\n",
       "      <td>0</td>\n",
       "      <td>0</td>\n",
       "    </tr>\n",
       "    <tr>\n",
       "      <th>7</th>\n",
       "      <td>nhân viên chậm lắm</td>\n",
       "      <td>very slow staff</td>\n",
       "      <td>slow staff</td>\n",
       "      <td>0</td>\n",
       "      <td>0</td>\n",
       "    </tr>\n",
       "    <tr>\n",
       "      <th>8</th>\n",
       "      <td>hỗ trợ lâu không hài lòng</td>\n",
       "      <td>unsatisfied long support</td>\n",
       "      <td>unsatisfied long support</td>\n",
       "      <td>0</td>\n",
       "      <td>0</td>\n",
       "    </tr>\n",
       "    <tr>\n",
       "      <th>9</th>\n",
       "      <td>càng nhiều kỷ niệm thì chia tay càng đau đớn</td>\n",
       "      <td>The more memories, the more painful parting is</td>\n",
       "      <td>memory painful part</td>\n",
       "      <td>0</td>\n",
       "      <td>0</td>\n",
       "    </tr>\n",
       "    <tr>\n",
       "      <th>10</th>\n",
       "      <td>tiếc cho họ nhìn mặt có nét phu thê quá trời</td>\n",
       "      <td>I'm sorry that they have such a fiancé look on...</td>\n",
       "      <td>i am sorry fiancé look face</td>\n",
       "      <td>0</td>\n",
       "      <td>0</td>\n",
       "    </tr>\n",
       "    <tr>\n",
       "      <th>11</th>\n",
       "      <td>tao còn mới thấy page nào đó bê cả câu bà của ...</td>\n",
       "      <td>I just saw a page with our grandmother's sentence</td>\n",
       "      <td>saw page grandmother sentence</td>\n",
       "      <td>1</td>\n",
       "      <td>1</td>\n",
       "    </tr>\n",
       "    <tr>\n",
       "      <th>12</th>\n",
       "      <td>chúng đã sai khi năm xưa mỉa mai chị đấy</td>\n",
       "      <td>they were wrong when they mocked you in the past</td>\n",
       "      <td>wrong mock past</td>\n",
       "      <td>0</td>\n",
       "      <td>0</td>\n",
       "    </tr>\n",
       "    <tr>\n",
       "      <th>13</th>\n",
       "      <td>hóa ra năm xưa em đã trách lầm chị rồi</td>\n",
       "      <td>Turns out I was wrong about you in the past</td>\n",
       "      <td>turn wrong past</td>\n",
       "      <td>0</td>\n",
       "      <td>0</td>\n",
       "    </tr>\n",
       "    <tr>\n",
       "      <th>14</th>\n",
       "      <td>bỏ tiền tỷ đầu tư này nọ xong giờ làm xấu mặt</td>\n",
       "      <td>After spending billions of money on this and t...</td>\n",
       "      <td>spending billion money embarrass</td>\n",
       "      <td>0</td>\n",
       "      <td>0</td>\n",
       "    </tr>\n",
       "  </tbody>\n",
       "</table>\n",
       "</div>"
      ],
      "text/plain": [
       "                                               review  \\\n",
       "0   Tôi thấy app của VIB cũng được. Xài cũng ok, n...   \n",
       "1                              dịch vụ chán, lỗi hoài   \n",
       "2                     cũng tạm ah, hôm được hôm không   \n",
       "3                      có cải thiện đó, chạy mượt hơn   \n",
       "4                          hài lòng với dịch vụ ở đây   \n",
       "5                không thấy gì để chê với phí của vib   \n",
       "6                                         tệ quá trời   \n",
       "7                                  nhân viên chậm lắm   \n",
       "8                           hỗ trợ lâu không hài lòng   \n",
       "9        càng nhiều kỷ niệm thì chia tay càng đau đớn   \n",
       "10       tiếc cho họ nhìn mặt có nét phu thê quá trời   \n",
       "11  tao còn mới thấy page nào đó bê cả câu bà của ...   \n",
       "12           chúng đã sai khi năm xưa mỉa mai chị đấy   \n",
       "13             hóa ra năm xưa em đã trách lầm chị rồi   \n",
       "14      bỏ tiền tỷ đầu tư này nọ xong giờ làm xấu mặt   \n",
       "\n",
       "                                            review_en  \\\n",
       "0        I see vib's app is also ok to use in general   \n",
       "1                              boring service forever   \n",
       "2                                        Good day too   \n",
       "3           There is an improvement, it runs smoother   \n",
       "4                     Satisfied with the service here   \n",
       "5   I don't see anything to complain about with vi...   \n",
       "6                                              so bad   \n",
       "7                                     very slow staff   \n",
       "8                            unsatisfied long support   \n",
       "9      The more memories, the more painful parting is   \n",
       "10  I'm sorry that they have such a fiancé look on...   \n",
       "11  I just saw a page with our grandmother's sentence   \n",
       "12   they were wrong when they mocked you in the past   \n",
       "13        Turns out I was wrong about you in the past   \n",
       "14  After spending billions of money on this and t...   \n",
       "\n",
       "                        review_clean  vader_compound  sentiment  \n",
       "0                    see use general               0          1  \n",
       "1               bore service forever               0          0  \n",
       "2                           good day               1          1  \n",
       "3           improvement run smoother               1          1  \n",
       "4                  satisfied service               1          1  \n",
       "5   do not see anything complain fee               1          0  \n",
       "6                                bad               0          0  \n",
       "7                         slow staff               0          0  \n",
       "8           unsatisfied long support               0          0  \n",
       "9                memory painful part               0          0  \n",
       "10       i am sorry fiancé look face               0          0  \n",
       "11     saw page grandmother sentence               1          1  \n",
       "12                   wrong mock past               0          0  \n",
       "13                   turn wrong past               0          0  \n",
       "14  spending billion money embarrass               0          0  "
      ]
     },
     "execution_count": 51,
     "metadata": {},
     "output_type": "execute_result"
    }
   ],
   "source": [
    "df_pred[['review','review_en','review_clean','vader_compound','sentiment']]"
   ]
  },
  {
   "cell_type": "code",
   "execution_count": null,
   "metadata": {},
   "outputs": [
    {
     "data": {
      "text/plain": [
       "0.3333333333333333"
      ]
     },
     "execution_count": 52,
     "metadata": {},
     "output_type": "execute_result"
    }
   ],
   "source": [
    "avg_sentiment_score = df_pred['sentiment'].sum()/df_pred.shape[0]\n",
    "avg_sentiment_score"
   ]
  },
  {
   "cell_type": "markdown",
   "metadata": {},
   "source": [
    "##### END SENTIMENT PREDICTION\n",
    "####################################################################################"
   ]
  }
 ],
 "metadata": {
  "kernelspec": {
   "display_name": "Python 3.9.12 ('base')",
   "language": "python",
   "name": "python3"
  },
  "language_info": {
   "codemirror_mode": {
    "name": "ipython",
    "version": 3
   },
   "file_extension": ".py",
   "mimetype": "text/x-python",
   "name": "python",
   "nbconvert_exporter": "python",
   "pygments_lexer": "ipython3",
   "version": "3.9.12"
  },
  "orig_nbformat": 4,
  "vscode": {
   "interpreter": {
    "hash": "172c4a3b085fdb374d45bc607bca2c69ba2fb7e6614652845a659383d70f67a3"
   }
  }
 },
 "nbformat": 4,
 "nbformat_minor": 2
}
